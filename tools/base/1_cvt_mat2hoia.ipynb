{
 "cells": [
  {
   "cell_type": "markdown",
   "metadata": {},
   "source": [
    "由原始mat格式的标注，转换成QPIC提供的HOIA标注格式"
   ]
  },
  {
   "cell_type": "code",
   "execution_count": 1,
   "metadata": {},
   "outputs": [],
   "source": [
    "from scipy.io import loadmat\n",
    "from pprint import pprint\n",
    "import json"
   ]
  },
  {
   "cell_type": "code",
   "execution_count": 2,
   "metadata": {},
   "outputs": [
    {
     "data": {
      "text/plain": [
       "dict_keys(['__header__', '__version__', '__globals__', 'bbox_train', 'bbox_test', 'list_action'])"
      ]
     },
     "execution_count": 2,
     "metadata": {},
     "output_type": "execute_result"
    }
   ],
   "source": [
    "raw_ann = loadmat('../../annotations/raw/anno_bbox.mat')\n",
    "raw_ann.keys()"
   ]
  },
  {
   "cell_type": "code",
   "execution_count": 3,
   "metadata": {},
   "outputs": [],
   "source": [
    "raw_train, raw_test = raw_ann['bbox_train'][0], raw_ann['bbox_test'][0]"
   ]
  },
  {
   "cell_type": "code",
   "execution_count": 4,
   "metadata": {},
   "outputs": [],
   "source": [
    "label_info = json.load(open('../../configs/label_info.json'))\n",
    "hoi_info = label_info['hoi_info']"
   ]
  },
  {
   "cell_type": "code",
   "execution_count": 5,
   "metadata": {},
   "outputs": [],
   "source": [
    "def mat2json(mat_anns):\n",
    "    new_anns, emptys, duplicate = [], [], set()\n",
    "    for i, (filename, size, anns) in enumerate(mat_anns):\n",
    "        filename = filename.item()\n",
    "        img_id = int(filename[-12:-4])\n",
    "\n",
    "        W, H, C = size.item()\n",
    "        W, H = W.item(), H.item()\n",
    "\n",
    "        ins_anns, rel_anns, ins_map, rel_set = [], [], {}, set()\n",
    "        for hoi, sub_bboxes, obj_bboxes, pairs, invis in anns[0]:\n",
    "            hoi = hoi.item()\n",
    "            rel = hoi_info[str(hoi)]['ann_rel_id']\n",
    "            obj = hoi_info[str(hoi)]['ann_obj_id']\n",
    "\n",
    "            if len(pairs) < 1:\n",
    "                assert invis.item() == 1\n",
    "                continue\n",
    "\n",
    "            # 每个包含若干种hoi\n",
    "            # 一种hoi涉及多对sub-obj\n",
    "            sub_ids, obj_ids = [], []  # 某种hoi涉及的sub、obj\n",
    "            for bbox in sub_bboxes[0]:\n",
    "                x1, x2, y1, y2 = (i.item() for i in bbox.item())\n",
    "                bbox = (x1, y1, x2, y2)\n",
    "                assert x2 <= W and y2 <= H, f'{i}, {filename}, {bbox}, {W}, {H}'\n",
    "                key = (bbox, 1)  # 1 是 human label id\n",
    "                if key not in ins_map:\n",
    "                    ins_map[key] = len(ins_anns)\n",
    "                    ins_anns.append(dict(bbox=bbox, category_id=1))\n",
    "                sub_ids.append(ins_map[key])\n",
    "            for bbox in obj_bboxes[0]:\n",
    "                x1, x2, y1, y2 = (i.item() for i in bbox.item())\n",
    "                bbox = (x1, y1, x2, y2)\n",
    "                assert x2 <= W and y2 <= H, f'{i}, {filename}, {bbox}, {W}, {H}'\n",
    "                key = (bbox, obj)\n",
    "                if key not in ins_map:\n",
    "                    ins_map[key] = len(ins_anns)\n",
    "                    ins_anns.append(dict(bbox=bbox, category_id=obj))\n",
    "                obj_ids.append(ins_map[key])\n",
    "\n",
    "            for sub_idx, obj_idx in pairs:\n",
    "                sub_id, obj_id = sub_ids[sub_idx-1], obj_ids[obj_idx-1]\n",
    "                assert sub_id != obj_id, f'{i}, {filename}, {sub_idx}, {obj_idx}'\n",
    "                if (sub_id, obj_id, hoi) not in rel_set:\n",
    "                    rel_set.add((sub_id, obj_id, hoi))\n",
    "                    rel_anns.append(dict(\n",
    "                        subject_id=sub_id,\n",
    "                        object_id=obj_id,\n",
    "                        category_id=rel,\n",
    "                        hoi_category_id=hoi\n",
    "                    ))\n",
    "                else:\n",
    "                    duplicate.add(i)\n",
    "\n",
    "        if len(rel_anns) == 0:\n",
    "            emptys.append((i, filename))\n",
    "            continue\n",
    "\n",
    "        new_anns.append(dict(\n",
    "            file_name=filename,\n",
    "            img_id=img_id,\n",
    "            width=W,\n",
    "            height=H,\n",
    "            annotations=ins_anns,\n",
    "            hoi_annotations=rel_anns\n",
    "        ))\n",
    "    print('total:', len(mat_anns))\n",
    "    print('empty:', len(emptys))\n",
    "    print('valid:', len(new_anns))\n",
    "    print('with duplicate:', len(duplicate))\n",
    "    return new_anns, emptys, list(duplicate)"
   ]
  },
  {
   "cell_type": "code",
   "execution_count": 6,
   "metadata": {},
   "outputs": [
    {
     "name": "stdout",
     "output_type": "stream",
     "text": [
      "train\n",
      "total: 38118\n",
      "empty: 485\n",
      "valid: 37633\n",
      "with duplicate: 1\n",
      "\n",
      "test\n",
      "total: 9658\n",
      "empty: 112\n",
      "valid: 9546\n",
      "with duplicate: 0\n"
     ]
    }
   ],
   "source": [
    "print('train')\n",
    "new_train, train_empty, train_duplicate = mat2json(raw_train)\n",
    "print('\\ntest')\n",
    "new_test, test_empty, test_duplicate = mat2json(raw_test)"
   ]
  },
  {
   "cell_type": "code",
   "execution_count": 77,
   "metadata": {},
   "outputs": [
    {
     "name": "stdout",
     "output_type": "stream",
     "text": [
      "{'file_name': 'HICO_train2015_00000001.jpg',\n",
      " 'img_id': 1,\n",
      " 'width': 640,\n",
      " 'height': 480,\n",
      " 'annotations': [{'bbox': (208, 33, 427, 300), 'category_id': 1},\n",
      "                 {'bbox': (59, 98, 572, 405), 'category_id': 4},\n",
      "                 {'bbox': (213, 20, 438, 357), 'category_id': 1},\n",
      "                 {'bbox': (77, 115, 583, 396), 'category_id': 4},\n",
      "                 {'bbox': (206, 33, 427, 306), 'category_id': 1},\n",
      "                 {'bbox': (61, 100, 571, 401), 'category_id': 4},\n",
      "                 {'bbox': (209, 26, 444, 317), 'category_id': 1},\n",
      "                 {'bbox': (59, 99, 579, 395), 'category_id': 4}],\n",
      " 'hoi_annotations': [{'subject_id': 0, 'object_id': 1, 'category_id': 73, 'hoi_category_id': 153},\n",
      "                     {'subject_id': 2, 'object_id': 3, 'category_id': 77, 'hoi_category_id': 154},\n",
      "                     {'subject_id': 4, 'object_id': 5, 'category_id': 88, 'hoi_category_id': 155},\n",
      "                     {'subject_id': 6, 'object_id': 7, 'category_id': 99, 'hoi_category_id': 156}]}\n"
     ]
    }
   ],
   "source": [
    "pprint(new_train[0], width=100, compact=True, sort_dicts=False)  # 1"
   ]
  },
  {
   "cell_type": "code",
   "execution_count": 78,
   "metadata": {},
   "outputs": [
    {
     "name": "stdout",
     "output_type": "stream",
     "text": [
      "{'file_name': 'HICO_test2015_00000001.jpg',\n",
      " 'img_id': 1,\n",
      " 'width': 640,\n",
      " 'height': 427,\n",
      " 'annotations': [{'bbox': (320, 306, 359, 349), 'category_id': 1},\n",
      "                 {'bbox': (270, 303, 311, 350), 'category_id': 1},\n",
      "                 {'bbox': (148, 345, 376, 414), 'category_id': 15}],\n",
      " 'hoi_annotations': [{'subject_id': 0, 'object_id': 2, 'category_id': 88, 'hoi_category_id': 246},\n",
      "                     {'subject_id': 1, 'object_id': 2, 'category_id': 88, 'hoi_category_id': 246}]}\n"
     ]
    }
   ],
   "source": [
    "pprint(new_test[0], width=100, compact=True, sort_dicts=False)  # 1"
   ]
  },
  {
   "cell_type": "code",
   "execution_count": 79,
   "metadata": {},
   "outputs": [],
   "source": [
    "json.dump(new_train, open('train.json', 'w'))\n",
    "json.dump(new_test, open('test.json', 'w'))"
   ]
  },
  {
   "cell_type": "code",
   "execution_count": null,
   "metadata": {},
   "outputs": [],
   "source": []
  }
 ],
 "metadata": {
  "kernelspec": {
   "display_name": "mmcv",
   "language": "python",
   "name": "python3"
  },
  "language_info": {
   "codemirror_mode": {
    "name": "ipython",
    "version": 3
   },
   "file_extension": ".py",
   "mimetype": "text/x-python",
   "name": "python",
   "nbconvert_exporter": "python",
   "pygments_lexer": "ipython3",
   "version": "3.9.18"
  },
  "orig_nbformat": 4
 },
 "nbformat": 4,
 "nbformat_minor": 2
}
