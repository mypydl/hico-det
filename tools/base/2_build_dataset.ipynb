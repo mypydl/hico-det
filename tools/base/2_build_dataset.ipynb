{
 "cells": [
  {
   "cell_type": "code",
   "execution_count": 1,
   "metadata": {},
   "outputs": [],
   "source": [
    "import os.path as osp\n",
    "from tqdm import trange, tqdm\n",
    "from pprint import pprint\n",
    "import cv2\n",
    "from pycocotools.coco import COCO\n",
    "from mmengine import load, dump"
   ]
  },
  {
   "cell_type": "markdown",
   "metadata": {},
   "source": [
    "# image\n",
    "*把gray图片转为rgb格式"
   ]
  },
  {
   "cell_type": "code",
   "execution_count": null,
   "metadata": {},
   "outputs": [],
   "source": [
    "import PIL.Image as Image\n",
    "from pathlib import Path"
   ]
  },
  {
   "cell_type": "code",
   "execution_count": null,
   "metadata": {},
   "outputs": [],
   "source": [
    "def gray2rgb(img_root: Path):\n",
    "    filenames = sorted(list(img_root.glob('*')))\n",
    "    error_files = []\n",
    "    for filename in tqdm(filenames):\n",
    "        raw = Image.open(filename)\n",
    "        if len(raw.getbands()) < 3:\n",
    "            error_files.append(filename)\n",
    "            rgb = raw.convert('RGB')\n",
    "            rgb.save(filename)\n",
    "    print(f'num total image: {len(filenames)}\\n'\n",
    "          f'num gray  image: {len(error_files)}')\n",
    "    return error_files"
   ]
  },
  {
   "cell_type": "code",
   "execution_count": null,
   "metadata": {},
   "outputs": [],
   "source": [
    "gray2rgb(Path('../../images/test2015'))\n",
    "gray2rgb(Path('../../images/train2015'))"
   ]
  },
  {
   "attachments": {},
   "cell_type": "markdown",
   "metadata": {},
   "source": [
    "# annotation"
   ]
  },
  {
   "cell_type": "markdown",
   "metadata": {},
   "source": [
    "## instance / relation\n",
    "\n",
    "从HOIA格式，向COCO格式转换"
   ]
  },
  {
   "cell_type": "raw",
   "metadata": {},
   "source": [
    "ins_categories = load('/data0/DataSet/COCO2014/annotations/instances_val2014.json')['categories']\n",
    "dump(ins_categories, 'ins_categories.json')"
   ]
  },
  {
   "cell_type": "code",
   "execution_count": 64,
   "metadata": {},
   "outputs": [],
   "source": [
    "ins_categories = load('../../configs/ins_categories.json')\n",
    "rel_categories = load('../../configs/rel_categories.json')"
   ]
  },
  {
   "cell_type": "code",
   "execution_count": 69,
   "metadata": {},
   "outputs": [],
   "source": [
    "def collect_coco_format(raw_anns: list, img_root: str) -> tuple:\n",
    "    images, ins_annotations, rel_annotations = [], [], []\n",
    "\n",
    "    for i in trange(len(raw_anns)):\n",
    "        ann_info = raw_anns[i]\n",
    "        # 图片信息\n",
    "        image_id = int(ann_info['file_name'][-12:-4])\n",
    "        img_path = osp.join(img_root, ann_info['file_name'])\n",
    "        img = cv2.imread(img_path)  # 原标注的shape可能是错的\n",
    "        images.append({\n",
    "            'file_name': ann_info['file_name'],\n",
    "            'height'   : img.shape[0],\n",
    "            'width'    : img.shape[1],\n",
    "            'id'       : image_id\n",
    "        })\n",
    "\n",
    "        # 目标检测信息\n",
    "        ins_ann_ids = []\n",
    "        for ins_ann in ann_info['annotations']:\n",
    "            x1, y1, x2, y2 = ins_ann['bbox']\n",
    "            bbox = [x1, y1, x2-x1, y2-y1]\n",
    "            ins_ann_id = len(ins_annotations)+1\n",
    "            ins_ann_ids.append(ins_ann_id)\n",
    "            ins_annotations.append({\n",
    "                'id'         : ins_ann_id,\n",
    "                'bbox'       : bbox,\n",
    "                'area'       : bbox[-1] * bbox[-2],\n",
    "                'iscrowd'    : False,\n",
    "                'category_id': ins_ann['category_id'],\n",
    "                'image_id'   : image_id,\n",
    "            })\n",
    "\n",
    "        # 交互信息\n",
    "        for rel_ann in ann_info['hoi_annotations']:\n",
    "            rel_annotations.append({\n",
    "                'id'         : len(rel_annotations) + 1,\n",
    "                'image_id'   : image_id,\n",
    "                'object_id'  : ins_ann_ids[rel_ann[ 'object_id']],\n",
    "                'subject_id' : ins_ann_ids[rel_ann['subject_id']],\n",
    "                'category_id': rel_ann['category_id'],\n",
    "            })\n",
    "\n",
    "    print(f'num_images: {len(images         )}\\n'\n",
    "          f'num_ins   : {len(ins_annotations)}\\n'\n",
    "          f'num_rel   : {len(rel_annotations)}')\n",
    "    new_ins_anns = {\n",
    "        'info'       : None,\n",
    "        'licenses'   : [],\n",
    "        'images'     : images,\n",
    "        'annotations': ins_annotations,\n",
    "        'categories' : ins_categories\n",
    "    }\n",
    "    new_rel_anns = {\n",
    "        'info'       : None,\n",
    "        'licenses'   : [],\n",
    "        'images'     : images,\n",
    "        'annotations': rel_annotations,\n",
    "        'categories' : rel_categories\n",
    "    }\n",
    "    image_anns = {\n",
    "        'info'       : None,\n",
    "        'licenses'   : [],\n",
    "        'images'     : images,\n",
    "    }\n",
    "    return image_anns, new_ins_anns, new_rel_anns"
   ]
  },
  {
   "cell_type": "code",
   "execution_count": null,
   "metadata": {},
   "outputs": [
    {
     "name": "stdout",
     "output_type": "stream",
     "text": [
      "37633 & 9546\n"
     ]
    }
   ],
   "source": [
    "train_anns = load('../../annotations/raw/train.json')\n",
    "test_anns  = load('../../annotations/raw/test.json' )\n",
    "print(f'{len(train_anns)} & {len(test_anns)}')"
   ]
  },
  {
   "cell_type": "code",
   "execution_count": null,
   "metadata": {},
   "outputs": [
    {
     "name": "stdout",
     "output_type": "stream",
     "text": [
      "{'file_name': 'HICO_train2015_00000001.jpg',\n",
      " 'img_id': 1,\n",
      " 'width': 640,\n",
      " 'height': 480,\n",
      " 'annotations': [{'bbox': [208, 33, 427, 300], 'category_id': 1},\n",
      "                 {'bbox': [59, 98, 572, 405], 'category_id': 4},\n",
      "                 {'bbox': [213, 20, 438, 357], 'category_id': 1},\n",
      "                 {'bbox': [77, 115, 583, 396], 'category_id': 4},\n",
      "                 {'bbox': [206, 33, 427, 306], 'category_id': 1},\n",
      "                 {'bbox': [61, 100, 571, 401], 'category_id': 4},\n",
      "                 {'bbox': [209, 26, 444, 317], 'category_id': 1},\n",
      "                 {'bbox': [59, 99, 579, 395], 'category_id': 4}],\n",
      " 'hoi_annotations': [{'subject_id': 0, 'object_id': 1, 'category_id': 73, 'hoi_category_id': 153},\n",
      "                     {'subject_id': 2, 'object_id': 3, 'category_id': 77, 'hoi_category_id': 154},\n",
      "                     {'subject_id': 4, 'object_id': 5, 'category_id': 88, 'hoi_category_id': 155},\n",
      "                     {'subject_id': 6, 'object_id': 7, 'category_id': 99, 'hoi_category_id': 156}]}\n"
     ]
    }
   ],
   "source": [
    "pprint(train_anns[0], width=100, compact=True, sort_dicts=False)  # 1"
   ]
  },
  {
   "cell_type": "code",
   "execution_count": null,
   "metadata": {},
   "outputs": [
    {
     "name": "stdout",
     "output_type": "stream",
     "text": [
      "{'file_name': 'HICO_test2015_00000001.jpg',\n",
      " 'img_id': 1,\n",
      " 'width': 640,\n",
      " 'height': 427,\n",
      " 'annotations': [{'bbox': [320, 306, 359, 349], 'category_id': 1},\n",
      "                 {'bbox': [270, 303, 311, 350], 'category_id': 1},\n",
      "                 {'bbox': [148, 345, 376, 414], 'category_id': 15}],\n",
      " 'hoi_annotations': [{'subject_id': 0, 'object_id': 2, 'category_id': 88, 'hoi_category_id': 246},\n",
      "                     {'subject_id': 1, 'object_id': 2, 'category_id': 88, 'hoi_category_id': 246}]}\n"
     ]
    }
   ],
   "source": [
    "pprint(test_anns[0], width=100, compact=True, sort_dicts=False)  # 1"
   ]
  },
  {
   "cell_type": "code",
   "execution_count": 72,
   "metadata": {},
   "outputs": [
    {
     "name": "stderr",
     "output_type": "stream",
     "text": [
      "100%|██████████| 37633/37633 [02:56<00:00, 213.72it/s]\n"
     ]
    },
    {
     "name": "stdout",
     "output_type": "stream",
     "text": [
      "num_images    : 37633\n",
      "num_ins       : 199147\n",
      "num_rel       : 117870\n",
      "num_same_rel  : 0\n"
     ]
    }
   ],
   "source": [
    "coco_img_train, coco_ins_train, coco_rel_train = \\\n",
    "    collect_coco_format(train_anns, '../../images/train2015/')\n",
    "dump(coco_img_train, 'image_info_train.json')\n",
    "dump(coco_ins_train,  'instances_train.json')\n",
    "dump(coco_rel_train,  'relations_train.json')"
   ]
  },
  {
   "cell_type": "code",
   "execution_count": 70,
   "metadata": {},
   "outputs": [
    {
     "name": "stderr",
     "output_type": "stream",
     "text": [
      "100%|██████████| 9546/9546 [00:43<00:00, 221.68it/s]\n"
     ]
    },
    {
     "name": "stdout",
     "output_type": "stream",
     "text": [
      "num_images    : 9546\n",
      "num_ins       : 56786\n",
      "num_rel       : 33405\n",
      "num_same_rel  : 0\n"
     ]
    }
   ],
   "source": [
    "coco_img_test, coco_ins_test, coco_rel_test = \\\n",
    "    collect_coco_format(test_anns, '../../images/test2015')\n",
    "dump(coco_img_test, 'image_info_test.json')\n",
    "dump(coco_ins_test,  'instances_test.json')\n",
    "dump(coco_rel_test,  'relations_test.json')"
   ]
  },
  {
   "cell_type": "markdown",
   "metadata": {},
   "source": [
    "QPIC提供的标注和原版略有不同，对box进行了些许merge，导致其和pasta标注不兼容"
   ]
  },
  {
   "cell_type": "code",
   "execution_count": null,
   "metadata": {},
   "outputs": [],
   "source": [
    "train_anns = load('../../annotations/qpic/train_qpic.json')\n",
    "test_anns  = load('../../annotations/qpic/test_qpic.json' )\n",
    "print(f'{len(train_anns)} & {len(test_anns)}')"
   ]
  },
  {
   "cell_type": "code",
   "execution_count": null,
   "metadata": {},
   "outputs": [],
   "source": [
    "coco_img_train, coco_ins_train, coco_rel_train = \\\n",
    "    collect_coco_format(train_anns, '../../images/train2015/')\n",
    "dump(coco_img_train, 'image_info_train_qpic.json')\n",
    "dump(coco_ins_train,  'instances_train_qpic.json')\n",
    "dump(coco_rel_train,  'relations_train_qpic.json')"
   ]
  },
  {
   "cell_type": "code",
   "execution_count": null,
   "metadata": {},
   "outputs": [],
   "source": [
    "coco_img_test, coco_ins_test, coco_rel_test = \\\n",
    "    collect_coco_format(test_anns, '../../images/test2015')\n",
    "dump(coco_img_test, 'image_info_test_qpic.json')\n",
    "dump(coco_ins_test,  'instances_test_qpic.json')\n",
    "dump(coco_rel_test,  'relations_test_qpic.json')"
   ]
  },
  {
   "cell_type": "markdown",
   "metadata": {},
   "source": [
    "## pasta\n",
    "\n",
    "由hake数据集的标注转换而来"
   ]
  },
  {
   "cell_type": "code",
   "execution_count": 2,
   "metadata": {},
   "outputs": [],
   "source": [
    "from utils import box_xyxy2xywh"
   ]
  },
  {
   "cell_type": "code",
   "execution_count": 3,
   "metadata": {},
   "outputs": [
    {
     "name": "stdout",
     "output_type": "stream",
     "text": [
      "loading annotations into memory...\n",
      "Done (t=0.68s)\n",
      "creating index...\n",
      "index created!\n",
      "loading annotations into memory...\n",
      "Done (t=0.16s)\n",
      "creating index...\n",
      "index created!\n"
     ]
    }
   ],
   "source": [
    "coco_ins_train = COCO('../../annotations/instances_train.json')\n",
    "coco_rel_train = COCO('../../annotations/relations_train.json')"
   ]
  },
  {
   "cell_type": "code",
   "execution_count": 4,
   "metadata": {},
   "outputs": [],
   "source": [
    "pasta_categories = load('../../configs/pasta_categories.json')"
   ]
  },
  {
   "cell_type": "code",
   "execution_count": 5,
   "metadata": {},
   "outputs": [],
   "source": [
    "hake_anns = load('../../annotations/raw/hake_large_annotation.json')"
   ]
  },
  {
   "cell_type": "code",
   "execution_count": 6,
   "metadata": {},
   "outputs": [
    {
     "name": "stdout",
     "output_type": "stream",
     "text": [
      "[{'area': 58473, 'bbox': [208, 33, 219, 267], 'category_id': 1, 'id': 1, 'image_id': 1, 'iscrowd': False},\n",
      " {'area': 157491, 'bbox': [59, 98, 513, 307], 'category_id': 4, 'id': 2, 'image_id': 1, 'iscrowd': False},\n",
      " {'area': 75825, 'bbox': [213, 20, 225, 337], 'category_id': 1, 'id': 3, 'image_id': 1, 'iscrowd': False},\n",
      " {'area': 142186, 'bbox': [77, 115, 506, 281], 'category_id': 4, 'id': 4, 'image_id': 1, 'iscrowd': False},\n",
      " {'area': 60333, 'bbox': [206, 33, 221, 273], 'category_id': 1, 'id': 5, 'image_id': 1, 'iscrowd': False},\n",
      " {'area': 153510, 'bbox': [61, 100, 510, 301], 'category_id': 4, 'id': 6, 'image_id': 1, 'iscrowd': False},\n",
      " {'area': 68385, 'bbox': [209, 26, 235, 291], 'category_id': 1, 'id': 7, 'image_id': 1, 'iscrowd': False},\n",
      " {'area': 153920, 'bbox': [59, 99, 520, 296], 'category_id': 4, 'id': 8, 'image_id': 1, 'iscrowd': False}]\n"
     ]
    }
   ],
   "source": [
    "pprint(coco_ins_train.imgToAnns[1], compact=True, width=120)"
   ]
  },
  {
   "cell_type": "code",
   "execution_count": 7,
   "metadata": {},
   "outputs": [
    {
     "data": {
      "text/plain": [
       "{'id': 1, 'subject_id': 1, 'object_id': 2, 'category_id': 73, 'image_id': 1}"
      ]
     },
     "execution_count": 7,
     "metadata": {},
     "output_type": "execute_result"
    }
   ],
   "source": [
    "coco_rel_train.dataset['annotations'][0]"
   ]
  },
  {
   "cell_type": "code",
   "execution_count": 8,
   "metadata": {},
   "outputs": [
    {
     "name": "stdout",
     "output_type": "stream",
     "text": [
      "{'dataset': 'hico-det',\n",
      " 'labels': [{'action_labels': [{'human_part': 1, 'partstate': 5},\n",
      "                               {'human_part': 4, 'partstate': 0},\n",
      "                               {'human_part': 5, 'partstate': 4},\n",
      "                               {'human_part': 0, 'partstate': 0},\n",
      "                               {'human_part': 1, 'partstate': 5},\n",
      "                               {'human_part': 7, 'partstate': 1},\n",
      "                               {'human_part': 8, 'partstate': 1}],\n",
      "             'height': 480,\n",
      "             'hoi_id': 94,\n",
      "             'human_bbox': [1, 98, 616, 474],\n",
      "             'object_bbox': [1, 2, 634, 384],\n",
      "             'width': 640}],\n",
      " 'path_prefix': 'hico_20160224_det/images/train2015'}\n"
     ]
    }
   ],
   "source": [
    "pprint(hake_anns['HICO_train2015_00000526.jpg'], compact=True)"
   ]
  },
  {
   "cell_type": "code",
   "execution_count": 57,
   "metadata": {},
   "outputs": [],
   "source": [
    "def collect_coco_pasta(hake_anns: list, coco_ins: COCO, coco_rel: COCO) -> dict:\n",
    "    imgs_with_same_pasta = set()\n",
    "    pasta_annotations = []\n",
    "\n",
    "    for image_id, rel_info in tqdm(coco_rel.imgToAnns.items()):\n",
    "        ins_info = coco_ins.imgToAnns[image_id]\n",
    "        hake_info = hake_anns[coco_rel.imgs[image_id]['file_name']]\n",
    "\n",
    "        valid_bboxes = [tuple(item['bbox']) for item in ins_info]\n",
    "        box_pair_2_rel_ann_id = {\n",
    "            (\n",
    "                tuple(coco_ins.anns[rel['subject_id']]['bbox']), \n",
    "                tuple(coco_ins.anns[rel['object_id']]['bbox'])\n",
    "            ): rel['id']\n",
    "            for rel in rel_info}\n",
    "\n",
    "        # part state信息\n",
    "        check_same = set()\n",
    "        for ann in hake_info['labels']:\n",
    "            sub_bbox = tuple(box_xyxy2xywh(ann[ 'human_bbox']))\n",
    "            obj_bbox = tuple(box_xyxy2xywh(ann['object_bbox']))\n",
    "            assert sub_bbox in valid_bboxes\n",
    "            assert obj_bbox in valid_bboxes\n",
    "\n",
    "            try:\n",
    "                rel_ann_id = box_pair_2_rel_ann_id[(sub_bbox, obj_bbox)]\n",
    "            except KeyError as err:\n",
    "                print(image_id)\n",
    "                raise err\n",
    "\n",
    "            for pasta in ann.get('action_labels', []):\n",
    "                part_id = pasta['human_part']\n",
    "                state_id = pasta['partstate']\n",
    "                category_id = f'{part_id}-{state_id}'\n",
    "\n",
    "                tmp = (rel_ann_id, category_id)\n",
    "                if tmp in check_same:\n",
    "                    imgs_with_same_pasta.add(image_id)\n",
    "                    continue\n",
    "                else:\n",
    "                    check_same.add(tmp)\n",
    "\n",
    "                pasta_annotations.append({\n",
    "                    'id'         : len(pasta_annotations)+1,\n",
    "                    'image_id'   : image_id,\n",
    "                    'rel_ann_id' : rel_ann_id,\n",
    "                    'category_id': category_id\n",
    "                })\n",
    "\n",
    "    print('num pasta     :', len(pasta_annotations   ))\n",
    "    print('num same_pasta:', len(imgs_with_same_pasta))\n",
    "    coco_pasta = {\n",
    "        'info'       : coco_rel.dataset['info'    ],\n",
    "        'licenses'   : coco_rel.dataset['licenses'],\n",
    "        'images'     : coco_rel.dataset['images'  ],\n",
    "        'annotations': pasta_annotations,\n",
    "        'categories' : pasta_categories\n",
    "    }\n",
    "    return coco_pasta, sorted(list(imgs_with_same_pasta))"
   ]
  },
  {
   "cell_type": "code",
   "execution_count": 58,
   "metadata": {},
   "outputs": [
    {
     "name": "stderr",
     "output_type": "stream",
     "text": [
      "100%|██████████| 37633/37633 [00:00<00:00, 71592.61it/s]"
     ]
    },
    {
     "name": "stdout",
     "output_type": "stream",
     "text": [
      "num pasta     : 224308\n",
      "num same_pasta: 20\n"
     ]
    },
    {
     "name": "stderr",
     "output_type": "stream",
     "text": [
      "\n"
     ]
    }
   ],
   "source": [
    "coco_pasta_train, imgs_with_same_pasta = collect_coco_pasta(\n",
    "    hake_anns, coco_ins_train, coco_rel_train)"
   ]
  },
  {
   "cell_type": "code",
   "execution_count": null,
   "metadata": {},
   "outputs": [],
   "source": [
    "dump(coco_pasta_train, 'pasta_train.json')"
   ]
  }
 ],
 "metadata": {
  "kernelspec": {
   "display_name": "mmlab",
   "language": "python",
   "name": "python3"
  },
  "language_info": {
   "codemirror_mode": {
    "name": "ipython",
    "version": 3
   },
   "file_extension": ".py",
   "mimetype": "text/x-python",
   "name": "python",
   "nbconvert_exporter": "python",
   "pygments_lexer": "ipython3",
   "version": "3.9.18"
  },
  "orig_nbformat": 4
 },
 "nbformat": 4,
 "nbformat_minor": 2
}
