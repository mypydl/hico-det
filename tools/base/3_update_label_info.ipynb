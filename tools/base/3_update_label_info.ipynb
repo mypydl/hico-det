{
 "cells": [
  {
   "cell_type": "code",
   "execution_count": 1,
   "metadata": {},
   "outputs": [],
   "source": [
    "from collections import defaultdict\n",
    "from pprint import pprint\n",
    "from pycocotools.coco import COCO\n",
    "from mmengine import load, dump"
   ]
  },
  {
   "cell_type": "code",
   "execution_count": 2,
   "metadata": {},
   "outputs": [
    {
     "name": "stdout",
     "output_type": "stream",
     "text": [
      "loading annotations into memory...\n",
      "Done (t=0.62s)\n",
      "creating index...\n",
      "index created!\n",
      "loading annotations into memory...\n",
      "Done (t=0.28s)\n",
      "creating index...\n",
      "index created!\n",
      "loading annotations into memory...\n",
      "Done (t=0.24s)\n",
      "creating index...\n",
      "index created!\n",
      "loading annotations into memory...\n",
      "Done (t=0.05s)\n",
      "creating index...\n",
      "index created!\n"
     ]
    }
   ],
   "source": [
    "coco_ins_train = COCO('../../annotations/instances_train.json')\n",
    "coco_rel_train = COCO('../../annotations/relations_train.json')\n",
    "coco_ins_test = COCO('../../annotations/instances_test.json')\n",
    "coco_rel_test = COCO('../../annotations/relations_test.json')"
   ]
  },
  {
   "cell_type": "code",
   "execution_count": 23,
   "metadata": {},
   "outputs": [],
   "source": [
    "label_info = load('label_info.json')\n",
    "pair2hoi = label_info['pair2hoi']\n",
    "hoi_info = label_info['hoi_info']\n",
    "ins_info = label_info['ins_info']\n",
    "rel_info = label_info['rel_info']"
   ]
  },
  {
   "cell_type": "markdown",
   "metadata": {},
   "source": [
    "## collect counts"
   ]
  },
  {
   "cell_type": "code",
   "execution_count": 24,
   "metadata": {},
   "outputs": [],
   "source": [
    "rare_threshold = 10\n",
    "num_hoi, num_rel, num_ins = len(hoi_info), len(rel_info), len(ins_info)\n",
    "def collect_counts(coco_ins: COCO, coco_rel: COCO, subset: str):\n",
    "    counts_hoi = defaultdict(lambda: 0)\n",
    "    counts_ins = defaultdict(lambda: 0)\n",
    "    counts_rel = defaultdict(lambda: 0)\n",
    "\n",
    "    for ann in coco_ins.anns.values():\n",
    "        counts_ins[ann['category_id']] += 1\n",
    "\n",
    "    for ann in coco_rel.anns.values():\n",
    "        rel = ann['category_id']\n",
    "        obj = coco_ins.anns[ann['object_id']]['category_id']\n",
    "        hoi = pair2hoi[str((rel, obj))]\n",
    "\n",
    "        counts_rel[rel] += 1\n",
    "        counts_hoi[hoi] += 1\n",
    "\n",
    "    exist_hoi, exist_rel, exist_ins = len(counts_hoi), len(counts_rel), len(counts_ins)\n",
    "    rare_hoi = sum([count < rare_threshold for count in counts_hoi.values()])\n",
    "    print(f'--- {subset} ---')\n",
    "    print(f\"exist_hoi: {exist_hoi:<3d}, no_exist_hoi: {num_hoi - exist_hoi}\")\n",
    "    print(f\"exist_rel: {exist_rel:<3d}, no_exist_rel: {num_rel - exist_rel}\")\n",
    "    print(f\"exist_ins: {exist_ins:<3d}, no_exist_ins: {num_ins - exist_ins}\")\n",
    "    print(f\"rare_hoi : {rare_hoi + num_hoi - exist_hoi:<3d}, non-rare_hoi : {exist_hoi - rare_hoi}\")\n",
    "    print(f'----{\"-\"*len(subset)}----\\n')\n",
    "    return dict(counts_hoi), dict(counts_rel), dict(counts_ins)"
   ]
  },
  {
   "cell_type": "code",
   "execution_count": 25,
   "metadata": {},
   "outputs": [
    {
     "name": "stdout",
     "output_type": "stream",
     "text": [
      "--- train ---\n",
      "exist_hoi: 600, no_exist_hoi: 0\n",
      "exist_rel: 117, no_exist_rel: 0\n",
      "exist_ins: 80 , no_exist_ins: 0\n",
      "rare_hoi : 138, non-rare_hoi : 462\n",
      "-------------\n",
      "\n",
      "--- test ---\n",
      "exist_hoi: 600, no_exist_hoi: 0\n",
      "exist_rel: 117, no_exist_rel: 0\n",
      "exist_ins: 80 , no_exist_ins: 0\n",
      "rare_hoi : 198, non-rare_hoi : 402\n",
      "------------\n",
      "\n"
     ]
    }
   ],
   "source": [
    "counts_hoi_train, counts_rel_train, counts_ins_train = \\\n",
    "    collect_counts(coco_ins_train, coco_rel_train, 'train')\n",
    "counts_hoi_test, counts_rel_test, counts_ins_test = \\\n",
    "    collect_counts(coco_ins_test, coco_rel_test, 'test')"
   ]
  },
  {
   "cell_type": "markdown",
   "metadata": {},
   "source": [
    "## update label_info"
   ]
  },
  {
   "cell_type": "code",
   "execution_count": 8,
   "metadata": {},
   "outputs": [],
   "source": [
    "def add_count(category_info: dict, counts_train: dict, counts_test: dict):\n",
    "    for key, value in category_info.items():\n",
    "        value['counts_train'] = counts_train[int(key)]\n",
    "        value['counts_test'] = counts_test[int(key)]"
   ]
  },
  {
   "cell_type": "code",
   "execution_count": 27,
   "metadata": {},
   "outputs": [],
   "source": [
    "add_count(hoi_info, counts_hoi_train, counts_hoi_test)\n",
    "add_count(ins_info, counts_ins_train, counts_ins_test)\n",
    "add_count(rel_info, counts_rel_train, counts_rel_test)"
   ]
  },
  {
   "cell_type": "code",
   "execution_count": 28,
   "metadata": {},
   "outputs": [],
   "source": [
    "dump(label_info, 'label_info.json')"
   ]
  }
 ],
 "metadata": {
  "kernelspec": {
   "display_name": "Python 3.9.13 ('mmlab')",
   "language": "python",
   "name": "python3"
  },
  "language_info": {
   "codemirror_mode": {
    "name": "ipython",
    "version": 3
   },
   "file_extension": ".py",
   "mimetype": "text/x-python",
   "name": "python",
   "nbconvert_exporter": "python",
   "pygments_lexer": "ipython3",
   "version": "3.9.18"
  },
  "orig_nbformat": 4,
  "vscode": {
   "interpreter": {
    "hash": "860f04aefc9e3b0aa81e6b65839e758c2f993e15969b910de4cd110e056d16fe"
   }
  }
 },
 "nbformat": 4,
 "nbformat_minor": 2
}
