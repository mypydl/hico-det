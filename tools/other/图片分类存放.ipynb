{
 "cells": [
  {
   "cell_type": "code",
   "execution_count": 1,
   "metadata": {},
   "outputs": [],
   "source": [
    "import os\n",
    "import json\n",
    "import shutil\n",
    "import tqdm"
   ]
  },
  {
   "cell_type": "code",
   "execution_count": 2,
   "metadata": {},
   "outputs": [],
   "source": [
    "hoi_labels = [label.strip() for label in open('../configs/hoi_label.txt')]"
   ]
  },
  {
   "cell_type": "code",
   "execution_count": 3,
   "metadata": {},
   "outputs": [],
   "source": [
    "for label in hoi_labels:\n",
    "    os.makedirs(os.path.join('../images/train_class', label), exist_ok=True)\n",
    "    os.makedirs(os.path.join('../images/test_class', label), exist_ok=True)"
   ]
  },
  {
   "cell_type": "code",
   "execution_count": 9,
   "metadata": {},
   "outputs": [
    {
     "name": "stderr",
     "output_type": "stream",
     "text": [
      "100%|██████████| 37633/37633 [07:49<00:00, 80.11it/s] \n"
     ]
    }
   ],
   "source": [
    "anns = json.load(open('../annotations/trainval_hico.json'))\n",
    "for ann in tqdm.tqdm(anns):\n",
    "    filename = ann['file_name']\n",
    "    hois = list({hoi['hoi_category_id'] for hoi in ann['hoi_annotation']})\n",
    "    for hoi in hois:\n",
    "        src_path = os.path.join('../images/train2015/', filename)\n",
    "        dst_path = os.path.join('../images/train_class/', hoi_labels[hoi-1], filename)\n",
    "        shutil.copy(src=src_path, dst=dst_path)"
   ]
  },
  {
   "cell_type": "code",
   "execution_count": 10,
   "metadata": {},
   "outputs": [
    {
     "name": "stderr",
     "output_type": "stream",
     "text": [
      "100%|██████████| 9546/9546 [02:54<00:00, 54.83it/s] \n"
     ]
    }
   ],
   "source": [
    "anns = json.load(open('../annotations/test_hico.json'))\n",
    "for ann in tqdm.tqdm(anns):\n",
    "    filename = ann['file_name']\n",
    "    hois = list({hoi['hoi_category_id'] for hoi in ann['hoi_annotation']})\n",
    "    for hoi in hois:\n",
    "        src_path = os.path.join('../images/test2015/', filename)\n",
    "        dst_path = os.path.join('../images/test_class/', hoi_labels[hoi-1], filename)\n",
    "        shutil.copy(src=src_path, dst=dst_path)"
   ]
  },
  {
   "cell_type": "code",
   "execution_count": null,
   "metadata": {},
   "outputs": [],
   "source": []
  }
 ],
 "metadata": {
  "kernelspec": {
   "display_name": "base",
   "language": "python",
   "name": "python3"
  },
  "language_info": {
   "codemirror_mode": {
    "name": "ipython",
    "version": 3
   },
   "file_extension": ".py",
   "mimetype": "text/x-python",
   "name": "python",
   "nbconvert_exporter": "python",
   "pygments_lexer": "ipython3",
   "version": "3.9.15"
  },
  "orig_nbformat": 4,
  "vscode": {
   "interpreter": {
    "hash": "b7cc24c8218a602ba461c25122822a4654f0e7c5143444f589d51590f73d0f2c"
   }
  }
 },
 "nbformat": 4,
 "nbformat_minor": 2
}
