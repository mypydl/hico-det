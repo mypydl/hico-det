{
 "cells": [
  {
   "cell_type": "code",
   "execution_count": 1,
   "metadata": {},
   "outputs": [],
   "source": [
    "from pycocotools.coco import COCO\n",
    "from mmengine import dump, load\n",
    "from pprint import pprint\n",
    "from collections import defaultdict\n",
    "from copy import deepcopy\n",
    "\n",
    "from utils import (update_img_info, exclude_imgs, \n",
    "                   merge_coco, extract_img_info, gen_new_coco, \n",
    "                   train_exclude_img_ids, test_exclude_img_ids)"
   ]
  },
  {
   "attachments": {},
   "cell_type": "markdown",
   "metadata": {},
   "source": [
    "## 排除部分纠正不了的脏数据"
   ]
  },
  {
   "cell_type": "code",
   "execution_count": 52,
   "metadata": {},
   "outputs": [
    {
     "name": "stdout",
     "output_type": "stream",
     "text": [
      "loading annotations into memory...\n",
      "Done (t=0.58s)\n",
      "creating index...\n",
      "index created!\n",
      "loading annotations into memory...\n",
      "Done (t=0.15s)\n",
      "creating index...\n",
      "index created!\n",
      "loading annotations into memory...\n",
      "Done (t=0.50s)\n",
      "creating index...\n",
      "index created!\n",
      "loading annotations into memory...\n",
      "Done (t=0.04s)\n",
      "creating index...\n",
      "index created!\n"
     ]
    }
   ],
   "source": [
    "raw_ins_train2 = COCO('../pasta/raw/instances_train.json')\n",
    "raw_rel_train2 = COCO('../pasta/raw/relations_train.json')\n",
    "pasta_rel_train2 = COCO('../pasta/raw/pastas_train.json')\n",
    "\n",
    "raw_ins_train2_merged = COCO('../pasta/merge/instances_train2_merged.json')\n",
    "raw_rel_train2_merged = COCO('../pasta/merge/relations_train2_merged.json')\n",
    "pasta_rel_train2_merged = COCO('../pasta/merge/pastas_train2_merged.json')\n",
    "\n",
    "raw_ins_train = COCO('../../annotations/instances_train.json')\n",
    "raw_rel_train = COCO('../../annotations/relations_train.json')\n",
    "raw_ins_test = COCO('../../annotations/instances_test.json')\n",
    "raw_rel_test = COCO('../../annotations/relations_test.json')\n",
    "\n",
    "raw_ins_train_merged = COCO('../../annotations/instances_train_merged.json')\n",
    "raw_rel_train_merged = COCO('../../annotations/relations_train_merged.json')\n",
    "raw_ins_test_merged = COCO('../../annotations/instances_test_merged.json')\n",
    "raw_rel_test_merged = COCO('../../annotations/relations_test_merged.json')"
   ]
  },
  {
   "cell_type": "code",
   "execution_count": 53,
   "metadata": {},
   "outputs": [
    {
     "name": "stdout",
     "output_type": "stream",
     "text": [
      "successfully exclude 0/152 images\n",
      "creating index...\n",
      "index created!\n",
      "successfully exclude 0/152 images\n",
      "creating index...\n",
      "index created!\n",
      "successfully exclude 0/15 images\n",
      "creating index...\n",
      "index created!\n",
      "successfully exclude 0/15 images\n",
      "creating index...\n",
      "index created!\n"
     ]
    }
   ],
   "source": [
    "print('raw_ins_train')\n",
    "new_ins_train, exclude_success_ins_train = exclude_imgs(raw_ins_train, exclude_img_ids=train_exclude_img_ids)\n",
    "print('raw_rel_train')\n",
    "new_rel_train, exclude_success_rel_train = exclude_imgs(raw_rel_train, exclude_img_ids=train_exclude_img_ids)\n",
    "print('raw_ins_test')\n",
    "new_ins_test, exclude_success_ins_test = exclude_imgs(raw_ins_test, exclude_img_ids=test_exclude_img_ids)\n",
    "print('raw_rel_test')\n",
    "new_rel_test, exclude_success_rel_test = exclude_imgs(raw_rel_test, exclude_img_ids=test_exclude_img_ids)\n",
    "\n",
    "print('raw_ins_train_merged')\n",
    "new_ins_train_merged, exclude_success_ins_train_merged = exclude_imgs(raw_ins_train_merged, exclude_img_ids=train_exclude_img_ids)\n",
    "print('raw_rel_train_merged')\n",
    "new_rel_train_merged, exclude_success_rel_train_merged = exclude_imgs(raw_rel_train_merged, exclude_img_ids=train_exclude_img_ids)\n",
    "print('raw_ins_test_merged')\n",
    "new_ins_test_merged, exclude_success_ins_test_merged = exclude_imgs(raw_ins_test_merged, exclude_img_ids=test_exclude_img_ids)\n",
    "print('raw_rel_test_merged')\n",
    "new_rel_test_merged, exclude_success_rel_test_merged = exclude_imgs(raw_rel_test_merged, exclude_img_ids=test_exclude_img_ids)"
   ]
  },
  {
   "cell_type": "code",
   "execution_count": 51,
   "metadata": {},
   "outputs": [],
   "source": [
    "dump(new_ins_train.dataset, 'instances_train.json')\n",
    "dump(new_rel_train.dataset, 'relations_train.json')\n",
    "dump(new_ins_test.dataset, 'instances_test.json')\n",
    "dump(new_rel_test.dataset, 'relations_test.json')\n",
    "\n",
    "dump(new_ins_train_merged.dataset, 'instances_train_merged.json')\n",
    "dump(new_rel_train_merged.dataset, 'relations_train_merged.json')\n",
    "dump(new_ins_test_merged.dataset, 'instances_test_merged.json')\n",
    "dump(new_rel_test_merged.dataset, 'relations_test_merged.json')"
   ]
  },
  {
   "attachments": {},
   "cell_type": "markdown",
   "metadata": {},
   "source": [
    "### 同步更新image_info"
   ]
  },
  {
   "cell_type": "code",
   "execution_count": 54,
   "metadata": {},
   "outputs": [
    {
     "name": "stdout",
     "output_type": "stream",
     "text": [
      "creating index...\n",
      "index created!\n",
      "creating index...\n",
      "index created!\n"
     ]
    }
   ],
   "source": [
    "train_img_info = extract_img_info(raw_rel_train)\n",
    "test_img_info = extract_img_info(raw_rel_test)"
   ]
  },
  {
   "cell_type": "code",
   "execution_count": 55,
   "metadata": {},
   "outputs": [],
   "source": [
    "dump(train_img_info.dataset, 'image_info_train.json')\n",
    "dump(test_img_info.dataset, 'image_info_test.json')"
   ]
  },
  {
   "attachments": {},
   "cell_type": "markdown",
   "metadata": {},
   "source": [
    "## 合并更新标注"
   ]
  },
  {
   "cell_type": "code",
   "execution_count": 5,
   "metadata": {},
   "outputs": [
    {
     "name": "stdout",
     "output_type": "stream",
     "text": [
      "loading annotations into memory...\n",
      "Done (t=0.15s)\n",
      "creating index...\n",
      "index created!\n",
      "loading annotations into memory...\n",
      "Done (t=0.00s)\n",
      "creating index...\n",
      "index created!\n"
     ]
    }
   ],
   "source": [
    "coco1 = COCO('')\n",
    "coco2 = COCO('')"
   ]
  },
  {
   "cell_type": "code",
   "execution_count": 6,
   "metadata": {},
   "outputs": [
    {
     "name": "stdout",
     "output_type": "stream",
     "text": [
      "creating index...\n",
      "index created!\n",
      "creating index...\n",
      "index created!\n",
      "creating index...\n",
      "index created!\n"
     ]
    }
   ],
   "source": [
    "merged = merge_coco(coco1, coco2, rebuild_ann_id=False)"
   ]
  },
  {
   "cell_type": "code",
   "execution_count": 7,
   "metadata": {},
   "outputs": [],
   "source": [
    "dump(merged.dataset, '')"
   ]
  },
  {
   "attachments": {},
   "cell_type": "markdown",
   "metadata": {},
   "source": [
    "## 更新被重标注的文件列表"
   ]
  },
  {
   "attachments": {},
   "cell_type": "markdown",
   "metadata": {},
   "source": [
    "#### train"
   ]
  },
  {
   "cell_type": "code",
   "execution_count": 5,
   "metadata": {},
   "outputs": [
    {
     "name": "stdout",
     "output_type": "stream",
     "text": [
      "loading annotations into memory...\n",
      "Done (t=0.01s)\n",
      "creating index...\n",
      "index created!\n"
     ]
    }
   ],
   "source": [
    "# manualed_train = COCO('../../annotations/mini/instances_train.json')\n",
    "# manualed_train = COCO('../box_merge/iou_70/instances_train_manual_1.json')\n",
    "# manualed_train = COCO('../box_merge/iou_70/instances_train_manual_2.json')\n",
    "manualed_train = COCO('../subset/rare/instances_train_merged.json')"
   ]
  },
  {
   "cell_type": "code",
   "execution_count": 6,
   "metadata": {},
   "outputs": [
    {
     "name": "stdout",
     "output_type": "stream",
     "text": [
      "3051 -> 3061\n"
     ]
    }
   ],
   "source": [
    "# train\n",
    "raw = set(load('manualed_train.bak.json'))\n",
    "new = sorted(list(raw | set(manualed_train.imgs.keys())))\n",
    "dump(new, 'manualed_train.json')\n",
    "print(f'{len(raw)} -> {len(new)}')\n",
    "# 再手动改一下文件名"
   ]
  },
  {
   "attachments": {},
   "cell_type": "markdown",
   "metadata": {},
   "source": [
    "#### test"
   ]
  },
  {
   "cell_type": "code",
   "execution_count": 44,
   "metadata": {},
   "outputs": [
    {
     "name": "stdout",
     "output_type": "stream",
     "text": [
      "loading annotations into memory...\n",
      "Done (t=0.00s)\n",
      "creating index...\n",
      "index created!\n"
     ]
    }
   ],
   "source": [
    "manualed_test = COCO('../box_merge/iou_70/instances_test_manual_1.json')"
   ]
  },
  {
   "cell_type": "code",
   "execution_count": 45,
   "metadata": {},
   "outputs": [
    {
     "name": "stdout",
     "output_type": "stream",
     "text": [
      "0 -> 26\n"
     ]
    }
   ],
   "source": [
    "# test\n",
    "raw = set(load('manualed_test.bak.json'))\n",
    "new = sorted(list(raw | set(manualed_test.imgs.keys())))\n",
    "dump(new, 'manualed_test.json')\n",
    "print(f'{len(raw)} -> {len(new)}')\n",
    "# 再手动改一下文件名"
   ]
  },
  {
   "attachments": {},
   "cell_type": "markdown",
   "metadata": {},
   "source": [
    "## 剔除重复rel"
   ]
  },
  {
   "cell_type": "code",
   "execution_count": 7,
   "metadata": {},
   "outputs": [
    {
     "name": "stdout",
     "output_type": "stream",
     "text": [
      "loading annotations into memory...\n",
      "Done (t=0.05s)\n",
      "creating index...\n",
      "index created!\n"
     ]
    }
   ],
   "source": [
    "# train_rel = COCO('../../annotations/relations_train_merged.json')\n",
    "# test_rel = COCO('../../annotations/relations_test_merged.json')\n",
    "\n",
    "# train_rel = COCO('../../annotations/mini/relations_train.json')\n",
    "# test_rel = COCO('../../annotations/mini/relations_test.json')\n",
    "\n",
    "test_rel = COCO('../box_merge/iou_70/merged_rel_test.json')"
   ]
  },
  {
   "cell_type": "code",
   "execution_count": 8,
   "metadata": {},
   "outputs": [],
   "source": [
    "def remove_duplicate_rel(coco: COCO):\n",
    "    total_anns = set()\n",
    "    new_ann_ids = []\n",
    "    for ann in coco.dataset['annotations']:\n",
    "        key = (ann['image_id'], ann['subject_id'], ann['object_id'], ann['category_id'])\n",
    "        if key not in total_anns:\n",
    "            total_anns.add(key)\n",
    "            new_ann_ids.append(ann['id'])\n",
    "    num_raw, num_new = len(coco.dataset['annotations']), len(new_ann_ids)\n",
    "    duplicate = num_raw - num_new\n",
    "    if duplicate == 0:\n",
    "        print('没有重复标注')\n",
    "        return coco\n",
    "    else:\n",
    "        print(f'剔除了{duplicate}个重复标注，{num_raw} -> {num_new}')\n",
    "        return gen_new_coco(coco, new_anns=coco.loadAnns(new_ann_ids))"
   ]
  },
  {
   "cell_type": "code",
   "execution_count": 9,
   "metadata": {},
   "outputs": [
    {
     "name": "stdout",
     "output_type": "stream",
     "text": [
      "没有重复标注\n"
     ]
    }
   ],
   "source": [
    "# train_rel = remove_duplicate_rel(train_rel)\n",
    "test_rel = remove_duplicate_rel(test_rel)"
   ]
  },
  {
   "cell_type": "code",
   "execution_count": 12,
   "metadata": {},
   "outputs": [
    {
     "data": {
      "text/plain": [
       "28831"
      ]
     },
     "execution_count": 12,
     "metadata": {},
     "output_type": "execute_result"
    }
   ],
   "source": [
    "sum(ann['category_id'] != 58 for ann in test_rel.anns.values())"
   ]
  },
  {
   "cell_type": "code",
   "execution_count": 10,
   "metadata": {},
   "outputs": [
    {
     "data": {
      "text/plain": [
       "33041"
      ]
     },
     "execution_count": 10,
     "metadata": {},
     "output_type": "execute_result"
    }
   ],
   "source": [
    "len(test_rel.anns)"
   ]
  },
  {
   "cell_type": "code",
   "execution_count": 11,
   "metadata": {},
   "outputs": [],
   "source": [
    "# dump(train_rel.dataset, 'relations_train.json')\n",
    "dump(test_rel.dataset, 'relations_test.json')"
   ]
  },
  {
   "attachments": {},
   "cell_type": "markdown",
   "metadata": {},
   "source": [
    "## 处理太小的bbox"
   ]
  },
  {
   "cell_type": "code",
   "execution_count": 2,
   "metadata": {},
   "outputs": [
    {
     "name": "stdout",
     "output_type": "stream",
     "text": [
      "loading annotations into memory...\n",
      "Done (t=0.50s)\n",
      "creating index...\n",
      "index created!\n",
      "loading annotations into memory...\n",
      "Done (t=0.20s)\n",
      "creating index...\n",
      "index created!\n"
     ]
    }
   ],
   "source": [
    "# train_ins = COCO('../../annotations/instances_train.json')\n",
    "# test_ins  = COCO('../../annotations/instances_test.json')\n",
    "\n",
    "# train_ins = COCO('../../annotations/raw/instances_train.json')\n",
    "# test_ins  = COCO('../../annotations/raw/instances_test.json')\n",
    "\n",
    "# train_ins = COCO('../../annotations/instances_train_merged.json')\n",
    "# test_ins  = COCO('../../annotations/instances_test_merged.json')\n",
    "\n",
    "train_ins = COCO('../box_merge/iou_70/merged_ins_train.json')\n",
    "test_ins  = COCO('../box_merge/iou_70/merged_ins_test.json')"
   ]
  },
  {
   "cell_type": "code",
   "execution_count": 3,
   "metadata": {},
   "outputs": [],
   "source": [
    "def bbox_min_hw(coco: COCO, mode: str = 'none', min_hw: int = 5):\n",
    "    invalid = set()\n",
    "    new_anns = []\n",
    "    for id, ann in coco.anns.items():\n",
    "        ann = deepcopy(ann)\n",
    "        x, y, w, h = ann['bbox']\n",
    "        if w < min_hw or h < min_hw:\n",
    "            invalid.add(id)\n",
    "            if mode == 'keep':\n",
    "                img_info = coco.loadImgs(ann['image_id'])[0]\n",
    "                img_h, img_w = img_info['height'], img_info['width']\n",
    "\n",
    "                need_w = max(0, min_hw - w)\n",
    "                need_h = max(0, min_hw - h)\n",
    "\n",
    "                new_w = w + need_w\n",
    "                new_h = h + need_h\n",
    "                new_x = max(0, x - need_w // 2)\n",
    "                new_y = max(0, y - need_h // 2)\n",
    "                new_x -= max(0, new_x + new_w - img_w)\n",
    "                new_y -= max(0, new_y + new_h - img_h)\n",
    "\n",
    "                ann['bbox'] = [new_x, new_y, new_w, new_h]\n",
    "            if mode == 'delete':\n",
    "                continue\n",
    "        new_anns.append(ann)\n",
    "\n",
    "    if mode == 'none' or len(invalid) == 0:\n",
    "        print('return raw coco ann')\n",
    "        new_coco = coco\n",
    "    else:\n",
    "        new_coco = gen_new_coco(coco, new_anns=new_anns)\n",
    "    return invalid, new_coco"
   ]
  },
  {
   "cell_type": "code",
   "execution_count": 4,
   "metadata": {},
   "outputs": [
    {
     "name": "stdout",
     "output_type": "stream",
     "text": [
      "creating index...\n",
      "index created!\n"
     ]
    },
    {
     "data": {
      "text/plain": [
       "69"
      ]
     },
     "execution_count": 4,
     "metadata": {},
     "output_type": "execute_result"
    }
   ],
   "source": [
    "invalid_train, new_train_ins = bbox_min_hw(train_ins, mode='keep')\n",
    "len(invalid_train)"
   ]
  },
  {
   "cell_type": "code",
   "execution_count": 5,
   "metadata": {},
   "outputs": [
    {
     "name": "stdout",
     "output_type": "stream",
     "text": [
      "creating index...\n",
      "index created!\n"
     ]
    },
    {
     "data": {
      "text/plain": [
       "12"
      ]
     },
     "execution_count": 5,
     "metadata": {},
     "output_type": "execute_result"
    }
   ],
   "source": [
    "invalid_test, new_test_ins = bbox_min_hw(test_ins, mode='keep')\n",
    "len(invalid_test)"
   ]
  },
  {
   "cell_type": "code",
   "execution_count": 6,
   "metadata": {},
   "outputs": [],
   "source": [
    "# dump(new_train_ins.dataset, 'instances_train.json')\n",
    "dump(new_test_ins.dataset, 'merged_ins_test.json')"
   ]
  }
 ],
 "metadata": {
  "kernelspec": {
   "display_name": "mmlab",
   "language": "python",
   "name": "python3"
  },
  "language_info": {
   "codemirror_mode": {
    "name": "ipython",
    "version": 3
   },
   "file_extension": ".py",
   "mimetype": "text/x-python",
   "name": "python",
   "nbconvert_exporter": "python",
   "pygments_lexer": "ipython3",
   "version": "3.9.18"
  },
  "orig_nbformat": 4
 },
 "nbformat": 4,
 "nbformat_minor": 2
}
