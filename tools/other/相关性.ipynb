{
 "cells": [
  {
   "cell_type": "code",
   "execution_count": 35,
   "metadata": {},
   "outputs": [],
   "source": [
    "from collections import defaultdict\n",
    "import numpy as np\n",
    "import os\n",
    "from tqdm import tqdm\n",
    "import matplotlib\n",
    "matplotlib.use('Agg')  # 不显示图片，仅保存图片\n",
    "import matplotlib.pyplot as plt\n",
    "\n",
    "from mmengine import dump\n",
    "from pycocotools.coco import COCO"
   ]
  },
  {
   "attachments": {},
   "cell_type": "markdown",
   "metadata": {},
   "source": [
    "## 同一对sub|obj，同时有多种rel的概率"
   ]
  },
  {
   "cell_type": "code",
   "execution_count": 55,
   "metadata": {},
   "outputs": [],
   "source": [
    "def comput_correletion_of_rel_per_obj(coco_ins: COCO, coco_rel: COCO):\n",
    "    ins_categories = coco_ins.dataset['categories']\n",
    "    rel_categories = coco_rel.dataset['categories']\n",
    "    ins_cat2label = {cat['id']: i for i, cat in enumerate(ins_categories)}\n",
    "    rel_cat2label = {cat['id']: i for i, cat in enumerate(rel_categories)}\n",
    "    # corr_mat 关于次对角线对称（鉴于矩阵存储方案，即右上角为原点）\n",
    "    corr_mats = np.zeros((len(ins_cat2label), len(rel_cat2label), len(rel_cat2label)), dtype=int)\n",
    "\n",
    "    for img_id in tqdm(coco_rel.getImgIds()):\n",
    "        correlation = defaultdict(set)\n",
    "        for ann in coco_rel.loadAnns(coco_rel.getAnnIds(img_id)):\n",
    "            correlation[(ann['subject_id'], ann['object_id'])].add(rel_cat2label[ann['category_id']])\n",
    "        correlation = dict(correlation)\n",
    "\n",
    "        for (sub_id, obj_id), rels in correlation.items():\n",
    "            obj = ins_cat2label[coco_ins.loadAnns(obj_id)[0]['category_id']]\n",
    "            rels = np.array(list(rels))\n",
    "            rel_x, rel_y = np.meshgrid(rels, rels)\n",
    "            corr_mats[obj, rel_x, rel_y] += 1\n",
    "\n",
    "    corr_infos = dict()\n",
    "    for obj, corr_mat in enumerate(corr_mats):\n",
    "        valid_rels = np.where(corr_mat.sum(0))[0]\n",
    "        rel_x, rel_y = np.meshgrid(valid_rels, valid_rels)\n",
    "        obj_info = coco_ins.dataset['categories'][obj]\n",
    "        \n",
    "        corr_infos[obj_info['id']] = {\n",
    "            'obj_info': obj_info,\n",
    "            'rels_info': [rel_categories[i] for i in valid_rels],\n",
    "            'corr_mat': corr_mat[rel_x, rel_y]\n",
    "        }\n",
    "\n",
    "    return corr_infos"
   ]
  },
  {
   "cell_type": "code",
   "execution_count": 70,
   "metadata": {},
   "outputs": [],
   "source": [
    "def plt_correletion_of_obj(corr_infos: dict, save_dir: str = None):\n",
    "    if save_dir is not None and not os.path.exists(save_dir):\n",
    "        os.makedirs(save_dir)\n",
    "\n",
    "    for corr_info in corr_infos.values():\n",
    "        obj = corr_info['obj_info']\n",
    "        title = f\"correletion of {obj['name']}\"\n",
    "        rels = [info['name'] for info in corr_info['rels_info']]\n",
    "        num_rels = len(rels)\n",
    "        corr_mat = corr_info['corr_mat']\n",
    "        hoi_freq = np.diag(corr_mat)\n",
    "        corr_mat = corr_mat / hoi_freq[None]\n",
    "\n",
    "        fig, ax = plt.subplots(figsize=(2+num_rels/2, 2+num_rels/2))\n",
    "        ax.set_title(title+f\"(id: {obj['id']})\")\n",
    "        ax.imshow(corr_mat)\n",
    "        ax.set_xticks(range(num_rels))\n",
    "        ax.set_yticks(range(num_rels))\n",
    "        ax.set_xticklabels(rels)\n",
    "        ax.set_yticklabels([f\"{rel}-{freq}\" for rel, freq in zip(rels, hoi_freq)])\n",
    "        # 横坐标标签旋转45°\n",
    "        plt.setp(ax.get_xticklabels(), rotation=45, ha=\"right\", rotation_mode=\"anchor\")\n",
    "        # 在每个区域上打印对应数值\n",
    "        for i in range(num_rels):\n",
    "            for j in range(num_rels):\n",
    "                data = corr_mat[i, j]\n",
    "                if data < 0.5:\n",
    "                    ax.text(j, i, f'{data:.2f}', ha=\"center\", va=\"center\", color=\"w\")\n",
    "                else:\n",
    "                    ax.text(j, i, f'{data:.2f}', ha=\"center\", va=\"center\", color=\"black\")\n",
    "        fig.tight_layout()\n",
    "        if save_dir is not None:\n",
    "            fig.savefig(os.path.join(save_dir, title.replace(' ', '_')+'.jpg'), dpi=200)\n",
    "        else:\n",
    "            fig.show()"
   ]
  },
  {
   "attachments": {},
   "cell_type": "markdown",
   "metadata": {},
   "source": [
    "### raw anns"
   ]
  },
  {
   "cell_type": "code",
   "execution_count": 76,
   "metadata": {},
   "outputs": [
    {
     "name": "stdout",
     "output_type": "stream",
     "text": [
      "loading annotations into memory...\n",
      "Done (t=0.97s)\n",
      "creating index...\n",
      "index created!\n",
      "loading annotations into memory...\n",
      "Done (t=0.14s)\n",
      "creating index...\n",
      "index created!\n",
      "loading annotations into memory...\n",
      "Done (t=0.09s)\n",
      "creating index...\n",
      "index created!\n",
      "loading annotations into memory...\n",
      "Done (t=0.04s)\n",
      "creating index...\n",
      "index created!\n"
     ]
    }
   ],
   "source": [
    "train_ins = COCO('../../annotations/instances_train.json')\n",
    "train_rel = COCO('../../annotations/relations_train.json')\n",
    "test_ins = COCO('../../annotations/instances_test.json')\n",
    "test_rel = COCO('../../annotations/relations_test.json')"
   ]
  },
  {
   "cell_type": "code",
   "execution_count": 77,
   "metadata": {},
   "outputs": [
    {
     "name": "stderr",
     "output_type": "stream",
     "text": [
      "100%|██████████| 37633/37633 [00:01<00:00, 20113.80it/s]\n",
      "100%|██████████| 9546/9546 [00:00<00:00, 17955.07it/s]\n"
     ]
    }
   ],
   "source": [
    "corr_infos_train = comput_correletion_of_rel_per_obj(train_ins, train_rel)\n",
    "corr_infos_test = comput_correletion_of_rel_per_obj(test_ins, test_rel)"
   ]
  },
  {
   "cell_type": "code",
   "execution_count": 78,
   "metadata": {},
   "outputs": [],
   "source": [
    "dump(corr_infos_train, 'correletion_train.pkl')\n",
    "dump(corr_infos_test, 'correletion_test.pkl')"
   ]
  },
  {
   "cell_type": "code",
   "execution_count": 79,
   "metadata": {},
   "outputs": [
    {
     "data": {
      "text/plain": [
       "{'obj_info': {'supercategory': 'vehicle', 'id': 5, 'name': 'airplane'},\n",
       " 'rels_info': [{'id': 5, 'name': 'board'},\n",
       "  {'id': 18, 'name': 'direct'},\n",
       "  {'id': 26, 'name': 'exit'},\n",
       "  {'id': 31, 'name': 'fly'},\n",
       "  {'id': 42, 'name': 'inspect'},\n",
       "  {'id': 53, 'name': 'load'},\n",
       "  {'id': 58, 'name': 'no_interaction'},\n",
       "  {'id': 77, 'name': 'ride'},\n",
       "  {'id': 88, 'name': 'sit_on'},\n",
       "  {'id': 112, 'name': 'wash'}],\n",
       " 'corr_mat': array([[176,   0,   1,   0,   5,   5,   0,   0,   0,   0],\n",
       "        [  0,  98,   0,   4,   1,   0,   0,   3,   6,   0],\n",
       "        [  1,   0,  56,   1,   2,   1,   0,   2,   0,   0],\n",
       "        [  0,   4,   1, 181,   2,   1,   0,  24,  34,   0],\n",
       "        [  5,   1,   2,   2, 198,   5,   0,   0,   1,   0],\n",
       "        [  5,   0,   1,   1,   5,  75,   0,   0,   0,   0],\n",
       "        [  0,   0,   0,   0,   0,   0, 274,   0,   0,   0],\n",
       "        [  0,   3,   2,  24,   0,   0,   0, 284,  49,   0],\n",
       "        [  0,   6,   0,  34,   1,   0,   0,  49, 319,   0],\n",
       "        [  0,   0,   0,   0,   0,   0,   0,   0,   0,   4]])}"
      ]
     },
     "execution_count": 79,
     "metadata": {},
     "output_type": "execute_result"
    }
   ],
   "source": [
    "corr_infos_train[5]"
   ]
  },
  {
   "cell_type": "code",
   "execution_count": null,
   "metadata": {},
   "outputs": [],
   "source": [
    "plt_correletion_of_obj(corr_infos_train, 'correletion_train')"
   ]
  },
  {
   "cell_type": "code",
   "execution_count": null,
   "metadata": {},
   "outputs": [],
   "source": [
    "plt_correletion_of_obj(corr_infos_test, 'correletion_test')"
   ]
  },
  {
   "attachments": {},
   "cell_type": "markdown",
   "metadata": {},
   "source": [
    "### merged anns"
   ]
  },
  {
   "cell_type": "code",
   "execution_count": null,
   "metadata": {},
   "outputs": [
    {
     "name": "stdout",
     "output_type": "stream",
     "text": [
      "loading annotations into memory...\n",
      "Done (t=0.51s)\n",
      "creating index...\n",
      "index created!\n",
      "loading annotations into memory...\n",
      "Done (t=0.16s)\n",
      "creating index...\n",
      "index created!\n",
      "loading annotations into memory...\n",
      "Done (t=0.06s)\n",
      "creating index...\n",
      "index created!\n",
      "loading annotations into memory...\n",
      "Done (t=0.04s)\n",
      "creating index...\n",
      "index created!\n"
     ]
    }
   ],
   "source": [
    "train_ins_merged = COCO('../../annotations/instances_train_merged.json')\n",
    "train_rel_merged = COCO('../../annotations/relations_train_merged.json')\n",
    "test_ins_merged = COCO('../../annotations/instances_test_merged.json')\n",
    "test_rel_merged = COCO('../../annotations/relations_test_merged.json')"
   ]
  },
  {
   "cell_type": "code",
   "execution_count": null,
   "metadata": {},
   "outputs": [
    {
     "name": "stderr",
     "output_type": "stream",
     "text": [
      "100%|██████████| 37633/37633 [00:01<00:00, 20341.09it/s]\n",
      "100%|██████████| 9545/9545 [00:00<00:00, 18676.99it/s]\n"
     ]
    }
   ],
   "source": [
    "corr_infos_train_merged = comput_correletion_of_rel_per_obj(train_ins_merged, train_rel_merged)\n",
    "corr_infos_test_merged = comput_correletion_of_rel_per_obj(test_ins_merged, test_rel_merged)"
   ]
  },
  {
   "cell_type": "code",
   "execution_count": null,
   "metadata": {},
   "outputs": [],
   "source": [
    "dump(corr_infos_train_merged, 'correletion_train_merged.pkl')\n",
    "dump(corr_infos_test_merged, 'correletion_test_merged.pkl')"
   ]
  },
  {
   "cell_type": "code",
   "execution_count": null,
   "metadata": {},
   "outputs": [
    {
     "data": {
      "text/plain": [
       "{'obj_info': {'supercategory': 'vehicle', 'id': 5, 'name': 'airplane'},\n",
       " 'rels_info': [{'id': 5, 'name': 'board'},\n",
       "  {'id': 18, 'name': 'direct'},\n",
       "  {'id': 26, 'name': 'exit'},\n",
       "  {'id': 31, 'name': 'fly'},\n",
       "  {'id': 42, 'name': 'inspect'},\n",
       "  {'id': 53, 'name': 'load'},\n",
       "  {'id': 58, 'name': 'no_interaction'},\n",
       "  {'id': 77, 'name': 'ride'},\n",
       "  {'id': 88, 'name': 'sit_on'},\n",
       "  {'id': 112, 'name': 'wash'}],\n",
       " 'corr_mat': array([[176,   0,   1,   0,   7,   9,   0,   1,   0,   0],\n",
       "        [  0,  98,   0,   5,   1,   0,   0,   3,   8,   0],\n",
       "        [  1,   0,  56,   1,   2,   1,   0,   2,   0,   0],\n",
       "        [  0,   5,   1, 181,   2,   1,   0,  43,  48,   0],\n",
       "        [  7,   1,   2,   2, 198,  10,   0,   0,   2,   0],\n",
       "        [  9,   0,   1,   1,  10,  75,   0,   0,   0,   0],\n",
       "        [  0,   0,   0,   0,   0,   0, 274,   0,   0,   0],\n",
       "        [  1,   3,   2,  43,   0,   0,   0, 284,  82,   0],\n",
       "        [  0,   8,   0,  48,   2,   0,   0,  82, 319,   0],\n",
       "        [  0,   0,   0,   0,   0,   0,   0,   0,   0,   4]])}"
      ]
     },
     "metadata": {},
     "output_type": "display_data"
    }
   ],
   "source": [
    "corr_infos_train_merged[5]"
   ]
  },
  {
   "cell_type": "code",
   "execution_count": null,
   "metadata": {},
   "outputs": [],
   "source": [
    "plt_correletion_of_obj(corr_infos_train_merged, 'correletion_train_merged')"
   ]
  },
  {
   "cell_type": "code",
   "execution_count": null,
   "metadata": {},
   "outputs": [],
   "source": [
    "plt_correletion_of_obj(corr_infos_test_merged, 'correletion_test_merged')"
   ]
  },
  {
   "attachments": {},
   "cell_type": "markdown",
   "metadata": {},
   "source": [
    "## TODO: 身体部位和HOI的相关性"
   ]
  },
  {
   "cell_type": "code",
   "execution_count": 8,
   "metadata": {},
   "outputs": [],
   "source": [
    "parts_info = ['right_foot', 'right_leg', 'left_leg', 'left_foot', 'hip', 'head', 'right_hand', 'right_arm', 'left_arm', 'left_hand']"
   ]
  },
  {
   "cell_type": "code",
   "execution_count": 9,
   "metadata": {},
   "outputs": [],
   "source": [
    "def comput_corr_of_parts_per_hoi(anns):\n",
    "    correlation_of_parts_per_hoi = np.zeros((len(parts_info), len(hoi_info)), dtype=int)\n",
    "\n",
    "    for item in anns:\n",
    "        for hoi in item['hoi_annotations']:\n",
    "            hoi_id = hoi_info[str(hoi['hoi_category_id'])]['valid_id']\n",
    "            parts = list({pasta['part'] for pasta in hoi['part_state']})\n",
    "            correlation_of_parts_per_hoi[parts, hoi_id] += 1\n",
    "\n",
    "    return correlation_of_parts_per_hoi"
   ]
  },
  {
   "cell_type": "code",
   "execution_count": 140,
   "metadata": {},
   "outputs": [],
   "source": [
    "def plt_correletion_of_part(correlation_of_parts_per_hoi, hoi_frequency, save_path=None):\n",
    "    hoi_frequency = np.array([hoi_frequency[i] for i in range(1, 1+len(hoi_info))])\n",
    "    correlation_of_parts_per_hoi = correlation_of_parts_per_hoi / (hoi_frequency[None, :] + 1e-5)\n",
    "\n",
    "    xtick_labels = [f\"{hoi['label']}-{hoi_frequency[hoi['valid_id']]}\" for hoi in hoi_info.values()]\n",
    "    ytick_labels = parts_info\n",
    "\n",
    "    fig, ax = plt.subplots(figsize=(300, 8))\n",
    "    im = ax.imshow(correlation_of_parts_per_hoi, vmin=0., vmax=1.)\n",
    "\n",
    "    # We want to show all ticks...\n",
    "    ax.set_xticks(np.arange(len(xtick_labels)))\n",
    "    ax.set_yticks(np.arange(len(ytick_labels)))\n",
    "    # ... and label them with the respective list entries\n",
    "    ax.set_xticklabels(xtick_labels)\n",
    "    ax.set_yticklabels(ytick_labels)\n",
    "\n",
    "    # Rotate the tick labels and set their alignment.\n",
    "    plt.setp(ax.get_xticklabels(), rotation=45, ha=\"right\", rotation_mode=\"anchor\")\n",
    "\n",
    "    # Loop over data dimensions and create text annotations.\n",
    "    for i in range(len(ytick_labels)):\n",
    "        for j in range(len(xtick_labels)):\n",
    "            data = correlation_of_parts_per_hoi[i, j]\n",
    "            if data < 0.5:\n",
    "                text = ax.text(j, i, f'{data:.2f}', ha=\"center\", va=\"center\", color=\"w\")\n",
    "            else:\n",
    "                text = ax.text(j, i, f'{data:.2f}', ha=\"center\", va=\"center\", color=\"black\")\n",
    "\n",
    "    ax.set_title(f\"Correletion of parts per hoi\")\n",
    "    fig.tight_layout()\n",
    "    if save_path is not None:\n",
    "        plt.savefig(save_path)\n",
    "    else:\n",
    "        plt.show()"
   ]
  },
  {
   "cell_type": "code",
   "execution_count": 10,
   "metadata": {},
   "outputs": [],
   "source": [
    "train_pasta = json.load(open('../annotations/train_pasta.json'))\n",
    "correlation_of_parts_per_hoi_train = comput_corr_of_parts_per_hoi(train_pasta)\n",
    "\n",
    "# plt_correletion_of_part(correlation_of_parts_per_hoi_train, hoi_frequency_train, save_path='../correletion/parts_per_hoi_train')"
   ]
  },
  {
   "attachments": {},
   "cell_type": "markdown",
   "metadata": {},
   "source": [
    "### 身体部位和对象的距离与HOI的相关性"
   ]
  },
  {
   "cell_type": "code",
   "execution_count": null,
   "metadata": {},
   "outputs": [],
   "source": []
  },
  {
   "attachments": {},
   "cell_type": "markdown",
   "metadata": {},
   "source": [
    "### 身体部位状态和HOI的相关性"
   ]
  },
  {
   "cell_type": "code",
   "execution_count": null,
   "metadata": {},
   "outputs": [],
   "source": []
  },
  {
   "cell_type": "code",
   "execution_count": null,
   "metadata": {},
   "outputs": [],
   "source": []
  }
 ],
 "metadata": {
  "kernelspec": {
   "display_name": "ai",
   "language": "python",
   "name": "python3"
  },
  "language_info": {
   "codemirror_mode": {
    "name": "ipython",
    "version": 3
   },
   "file_extension": ".py",
   "mimetype": "text/x-python",
   "name": "python",
   "nbconvert_exporter": "python",
   "pygments_lexer": "ipython3",
   "version": "3.9.16"
  },
  "orig_nbformat": 4
 },
 "nbformat": 4,
 "nbformat_minor": 2
}
