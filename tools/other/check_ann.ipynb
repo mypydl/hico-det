{
 "cells": [
  {
   "cell_type": "markdown",
   "metadata": {},
   "source": [
    "# 检查QPIC提供的数据集和原mat数据集是否相同"
   ]
  },
  {
   "cell_type": "code",
   "execution_count": 1,
   "metadata": {},
   "outputs": [],
   "source": [
    "from pprint import pprint\n",
    "import json"
   ]
  },
  {
   "cell_type": "code",
   "execution_count": 23,
   "metadata": {},
   "outputs": [],
   "source": [
    "def check_ann(mat_anns, tgt_anns):\n",
    "    missmatch_files = []\n",
    "    for file_name, tgt_item in tgt_anns.items():\n",
    "        mat_item = mat_anns[file_name]\n",
    "        \n",
    "        # 先收集mat的instance的box和label\n",
    "        mat_ins = []\n",
    "        for ann in mat_item['annotations']:\n",
    "            mat_ins.append(tuple(ann['bbox'] + [ann['category_id']]))\n",
    "\n",
    "        flag = False\n",
    "\n",
    "        # 看tgt的instance是否都在tgt里\n",
    "        ins_tgt2mat = {}\n",
    "        for i, ann in enumerate(tgt_item['annotations']):\n",
    "            tmp = tuple(ann['bbox'] + [ann['category_id']])\n",
    "            if tmp not in mat_ins:\n",
    "                flag = True\n",
    "                break\n",
    "            ins_tgt2mat[i] = mat_ins.index(tmp)\n",
    "\n",
    "        if flag:\n",
    "            missmatch_files.append(file_name)\n",
    "            continue\n",
    "\n",
    "        # 同理\n",
    "        mat_rel = []\n",
    "        for ann in mat_item['hoi_annotations']:\n",
    "            mat_rel.append((ann['subject_id'], ann['object_id'], ann['category_id']))\n",
    "\n",
    "        for ann in tgt_item['hoi_annotations']:\n",
    "            tmp = (ins_tgt2mat[ann['subject_id']], ins_tgt2mat[ann['object_id']], \n",
    "                    ann['category_id'])\n",
    "            if tmp not in mat_rel:\n",
    "                flag = True\n",
    "                break\n",
    "\n",
    "        if flag:\n",
    "            missmatch_files.append(file_name)\n",
    "    \n",
    "    print('num mat img:', len(mat_anns))\n",
    "    print('num tgt img:', len(tgt_anns))\n",
    "    print('num missmatch:', len(missmatch_files))\n",
    "    return missmatch_files"
   ]
  },
  {
   "cell_type": "markdown",
   "metadata": {},
   "source": [
    "## train\n",
    "显然不一样，QPIC的标注被略微聚合过"
   ]
  },
  {
   "cell_type": "code",
   "execution_count": 20,
   "metadata": {},
   "outputs": [],
   "source": [
    "mat_anns = json.load(open('../../annotations/raw/train.json'))\n",
    "qpic_anns = json.load(open('../../annotations/qpic/train_qpic.json'))"
   ]
  },
  {
   "cell_type": "code",
   "execution_count": 21,
   "metadata": {},
   "outputs": [],
   "source": [
    "mat_anns = {item['file_name']: item for item in mat_anns}\n",
    "qpic_anns = {item['file_name']: item for item in qpic_anns}"
   ]
  },
  {
   "cell_type": "code",
   "execution_count": 7,
   "metadata": {},
   "outputs": [
    {
     "name": "stdout",
     "output_type": "stream",
     "text": [
      "{'file_name': 'HICO_train2015_00000001.jpg',\n",
      " 'img_id': 1,\n",
      " 'width': 640,\n",
      " 'height': 480,\n",
      " 'annotations': [{'bbox': [208, 33, 427, 300], 'category_id': 1},\n",
      "                 {'bbox': [59, 98, 572, 405], 'category_id': 4},\n",
      "                 {'bbox': [213, 20, 438, 357], 'category_id': 1},\n",
      "                 {'bbox': [77, 115, 583, 396], 'category_id': 4},\n",
      "                 {'bbox': [206, 33, 427, 306], 'category_id': 1},\n",
      "                 {'bbox': [61, 100, 571, 401], 'category_id': 4},\n",
      "                 {'bbox': [209, 26, 444, 317], 'category_id': 1},\n",
      "                 {'bbox': [59, 99, 579, 395], 'category_id': 4}],\n",
      " 'hoi_annotations': [{'subject_id': 0, 'object_id': 1, 'category_id': 73, 'hoi_category_id': 153},\n",
      "                     {'subject_id': 2, 'object_id': 3, 'category_id': 77, 'hoi_category_id': 154},\n",
      "                     {'subject_id': 4, 'object_id': 5, 'category_id': 88, 'hoi_category_id': 155},\n",
      "                     {'subject_id': 6, 'object_id': 7, 'category_id': 99, 'hoi_category_id': 156}]}\n"
     ]
    }
   ],
   "source": [
    "pprint(mat_anns['HICO_train2015_00000001.jpg'], compact=True, width=100, sort_dicts=False)"
   ]
  },
  {
   "cell_type": "code",
   "execution_count": 9,
   "metadata": {},
   "outputs": [
    {
     "name": "stdout",
     "output_type": "stream",
     "text": [
      "{'file_name': 'HICO_train2015_00000001.jpg',\n",
      " 'img_id': 0,\n",
      " 'annotations': [{'bbox': [207, 32, 426, 299], 'category_id': 1},\n",
      "                 {'bbox': [58, 97, 571, 404], 'category_id': 4}],\n",
      " 'width': 640,\n",
      " 'height': 480,\n",
      " 'hoi_annotations': [{'subject_id': 0, 'object_id': 1, 'category_id': 73, 'hoi_category_id': 153},\n",
      "                     {'subject_id': 0, 'object_id': 1, 'category_id': 77, 'hoi_category_id': 154},\n",
      "                     {'subject_id': 0, 'object_id': 1, 'category_id': 88, 'hoi_category_id': 155},\n",
      "                     {'subject_id': 0, 'object_id': 1, 'category_id': 99, 'hoi_category_id': 156}]}\n"
     ]
    }
   ],
   "source": [
    "pprint(qpic_anns['HICO_train2015_00000001.jpg'], compact=True, width=100, sort_dicts=False)"
   ]
  },
  {
   "cell_type": "code",
   "execution_count": 24,
   "metadata": {},
   "outputs": [
    {
     "name": "stdout",
     "output_type": "stream",
     "text": [
      "num mat img: 37633\n",
      "num tgt img: 37633\n",
      "num missmatch: 37633\n"
     ]
    }
   ],
   "source": [
    "train_missmatch = check_ann(mat_anns, qpic_anns)"
   ]
  },
  {
   "cell_type": "markdown",
   "metadata": {},
   "source": [
    "## test\n",
    "一样"
   ]
  },
  {
   "cell_type": "code",
   "execution_count": 10,
   "metadata": {},
   "outputs": [],
   "source": [
    "mat_anns = json.load(open('../../annotations/raw/test.json'))\n",
    "qpic_anns = json.load(open('../../annotations/qpic/test_qpic.json'))"
   ]
  },
  {
   "cell_type": "code",
   "execution_count": 11,
   "metadata": {},
   "outputs": [],
   "source": [
    "mat_anns = {item['file_name']: item for item in mat_anns}\n",
    "qpic_anns = {item['file_name']: item for item in qpic_anns}"
   ]
  },
  {
   "cell_type": "code",
   "execution_count": 12,
   "metadata": {},
   "outputs": [
    {
     "name": "stdout",
     "output_type": "stream",
     "text": [
      "{'file_name': 'HICO_test2015_00000001.jpg',\n",
      " 'img_id': 1,\n",
      " 'width': 640,\n",
      " 'height': 427,\n",
      " 'annotations': [{'bbox': [320, 306, 359, 349], 'category_id': 1},\n",
      "                 {'bbox': [270, 303, 311, 350], 'category_id': 1},\n",
      "                 {'bbox': [148, 345, 376, 414], 'category_id': 15}],\n",
      " 'hoi_annotations': [{'subject_id': 0, 'object_id': 2, 'category_id': 88, 'hoi_category_id': 246},\n",
      "                     {'subject_id': 1, 'object_id': 2, 'category_id': 88, 'hoi_category_id': 246}]}\n"
     ]
    }
   ],
   "source": [
    "pprint(mat_anns['HICO_test2015_00000001.jpg'], compact=True, width=100, sort_dicts=False)"
   ]
  },
  {
   "cell_type": "code",
   "execution_count": 13,
   "metadata": {},
   "outputs": [
    {
     "name": "stdout",
     "output_type": "stream",
     "text": [
      "{'file_name': 'HICO_test2015_00000001.jpg',\n",
      " 'annotations': [{'bbox': [320, 306, 359, 349], 'category_id': 1},\n",
      "                 {'bbox': [148, 345, 376, 414], 'category_id': 15},\n",
      "                 {'bbox': [270, 303, 311, 350], 'category_id': 1}],\n",
      " 'width': 640,\n",
      " 'height': 427,\n",
      " 'hoi_annotations': [{'subject_id': 0, 'object_id': 1, 'category_id': 88, 'hoi_category_id': 246},\n",
      "                     {'subject_id': 2, 'object_id': 1, 'category_id': 88, 'hoi_category_id': 246}],\n",
      " 'img_id': 0}\n"
     ]
    }
   ],
   "source": [
    "pprint(qpic_anns['HICO_test2015_00000001.jpg'], compact=True, width=100, sort_dicts=False)"
   ]
  },
  {
   "cell_type": "code",
   "execution_count": 19,
   "metadata": {},
   "outputs": [
    {
     "name": "stdout",
     "output_type": "stream",
     "text": [
      "num missmatch: 0\n"
     ]
    }
   ],
   "source": [
    "test_missmatch = check_ann(mat_anns, qpic_anns)"
   ]
  }
 ],
 "metadata": {
  "kernelspec": {
   "display_name": "mmcv",
   "language": "python",
   "name": "python3"
  },
  "language_info": {
   "codemirror_mode": {
    "name": "ipython",
    "version": 3
   },
   "file_extension": ".py",
   "mimetype": "text/x-python",
   "name": "python",
   "nbconvert_exporter": "python",
   "pygments_lexer": "ipython3",
   "version": "3.9.18"
  },
  "orig_nbformat": 4
 },
 "nbformat": 4,
 "nbformat_minor": 2
}
