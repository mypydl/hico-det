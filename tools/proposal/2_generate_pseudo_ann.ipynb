{
 "cells": [
  {
   "cell_type": "code",
   "execution_count": 1,
   "metadata": {},
   "outputs": [],
   "source": [
    "from tqdm import tqdm\n",
    "from collections import defaultdict\n",
    "from copy import deepcopy\n",
    "import os\n",
    "from pprint import pprint\n",
    "\n",
    "from pycocotools.coco import COCO\n",
    "import numpy as np\n",
    "from mmengine import dump, load\n",
    "\n",
    "from utils import box_xywh2xyxy"
   ]
  },
  {
   "cell_type": "code",
   "execution_count": 12,
   "metadata": {},
   "outputs": [],
   "source": [
    "train_img = load('../../annotations/image_info_train.json')\n",
    "test_img  = load('../../annotations/image_info_test.json')"
   ]
  },
  {
   "cell_type": "markdown",
   "metadata": {},
   "source": [
    "# person keypoints"
   ]
  },
  {
   "cell_type": "code",
   "execution_count": 10,
   "metadata": {},
   "outputs": [],
   "source": [
    "# coco_pose = load('/data0/DataSet/COCO2017/annotations/person_keypoints_val2017.json')\n",
    "# pose_category = coco_pose['categories']\n",
    "# dump(pose_category, 'pose_categories.json')\n",
    "\n",
    "pose_categories = load('../../configs/pose_categories.json')"
   ]
  },
  {
   "cell_type": "code",
   "execution_count": 14,
   "metadata": {},
   "outputs": [],
   "source": [
    "def gen_pose_pseudo_ann(coco_ins: COCO, pose_props: dict, person_id: int = 1):\n",
    "    annotations = []\n",
    "    for img_id, ins_anns in tqdm(coco_ins.imgToAnns.items()):\n",
    "        filename = coco_ins.loadImgs(img_id)[0]['file_name']\n",
    "        preds = pose_props[filename]\n",
    "        pose_preds = preds['person_keypoints']\n",
    "        human_bbox_preds = preds['instances']['bboxes'][pose_preds['tgt_ins_id']]\n",
    "        pose_preds = np.concatenate([\n",
    "            pose_preds['keypoints'], \n",
    "            pose_preds['scores'][..., None]\n",
    "        ], axis=-1)\n",
    "\n",
    "        for ann in ins_anns:\n",
    "            if ann['category_id'] != person_id:\n",
    "                continue\n",
    "\n",
    "            bbox = np.array(ann['bbox'])\n",
    "            bbox[2:] += bbox[:2]\n",
    "\n",
    "            match = (human_bbox_preds == bbox).all(1)\n",
    "            matched_pred = np.where(match)[0]\n",
    "            assert matched_pred.shape[0] == 1\n",
    "\n",
    "            pose_ann = deepcopy(ann)\n",
    "            pose_ann.update({\n",
    "                'keypoints': pose_preds[matched_pred],\n",
    "                'num_keypoints': 17,\n",
    "            })\n",
    "            annotations.append(pose_ann)\n",
    "\n",
    "    coco_pose = deepcopy(coco_ins.dataset)\n",
    "    coco_pose['annotations'] = annotations\n",
    "    coco_pose['categories' ] = pose_categories\n",
    "    return coco_pose"
   ]
  },
  {
   "cell_type": "markdown",
   "metadata": {},
   "source": [
    "## 由VIPLO提供"
   ]
  },
  {
   "cell_type": "code",
   "execution_count": 14,
   "metadata": {},
   "outputs": [],
   "source": [
    "proposal_root = '../../proposals/ViPLO/'\n",
    "test_total_prop_path = os.path.join(proposal_root, 'proposal_viplo_test.pkl')\n",
    "test_pose_pseudo_path = '../../annotations/person_keypoints_test_viplo.json'"
   ]
  },
  {
   "cell_type": "code",
   "execution_count": 15,
   "metadata": {},
   "outputs": [
    {
     "name": "stdout",
     "output_type": "stream",
     "text": [
      "loading annotations into memory...\n",
      "Done (t=0.10s)\n",
      "creating index...\n",
      "index created!\n"
     ]
    }
   ],
   "source": [
    "coco_ins_test = COCO('../../annotations/instances_test.json')"
   ]
  },
  {
   "cell_type": "code",
   "execution_count": 16,
   "metadata": {},
   "outputs": [
    {
     "data": {
      "text/plain": [
       "9546"
      ]
     },
     "execution_count": 16,
     "metadata": {},
     "output_type": "execute_result"
    }
   ],
   "source": [
    "test_proposals = load(test_total_prop_path)\n",
    "len(test_proposals)"
   ]
  },
  {
   "cell_type": "code",
   "execution_count": 20,
   "metadata": {},
   "outputs": [
    {
     "name": "stderr",
     "output_type": "stream",
     "text": [
      "100%|██████████| 9546/9546 [00:00<00:00, 9952.30it/s] \n"
     ]
    }
   ],
   "source": [
    "# person_keypoints\n",
    "test_key_ann = gen_pose_pseudo_ann(coco_ins_test, test_proposals)\n",
    "dump(test_key_ann, test_pose_pseudo_path)"
   ]
  },
  {
   "cell_type": "markdown",
   "metadata": {},
   "source": [
    "## 由 mmpose-vitpose-l 提供"
   ]
  },
  {
   "cell_type": "code",
   "execution_count": 2,
   "metadata": {},
   "outputs": [],
   "source": [
    "proposal_root = '../../proposals/GT/'\n",
    "train_total_prop_path = os.path.join(proposal_root, 'proposal_gt_train.pkl')\n",
    "test_total_prop_path  = os.path.join(proposal_root, 'proposal_gt_test.pkl')\n",
    "train_pose_pseudo_path = '../../annotations/person_keypoints_train_vitpose.json'\n",
    "test_pose_pseudo_path  = '../../annotations/person_keypoints_test_vitpose.json'"
   ]
  },
  {
   "cell_type": "code",
   "execution_count": 3,
   "metadata": {},
   "outputs": [
    {
     "data": {
      "text/plain": [
       "(37633, 9546)"
      ]
     },
     "execution_count": 3,
     "metadata": {},
     "output_type": "execute_result"
    }
   ],
   "source": [
    "train_proposals = load(train_total_prop_path)\n",
    "test_proposals  = load( test_total_prop_path)\n",
    "len(train_proposals), len(test_proposals)"
   ]
  },
  {
   "cell_type": "code",
   "execution_count": 4,
   "metadata": {},
   "outputs": [
    {
     "name": "stdout",
     "output_type": "stream",
     "text": [
      "loading annotations into memory...\n",
      "Done (t=1.04s)\n",
      "creating index...\n",
      "index created!\n",
      "loading annotations into memory...\n",
      "Done (t=0.38s)\n",
      "creating index...\n",
      "index created!\n"
     ]
    }
   ],
   "source": [
    "coco_ins_train = COCO('../../annotations/instances_train.json')\n",
    "coco_ins_test  = COCO('../../annotations/instances_test.json')"
   ]
  },
  {
   "cell_type": "code",
   "execution_count": 15,
   "metadata": {},
   "outputs": [
    {
     "name": "stderr",
     "output_type": "stream",
     "text": [
      "100%|██████████| 37633/37633 [00:02<00:00, 14533.45it/s]\n",
      "100%|██████████| 9546/9546 [00:01<00:00, 8459.30it/s] \n"
     ]
    }
   ],
   "source": [
    "# person_keypoints\n",
    "train_key_ann = gen_pose_pseudo_ann(coco_ins_train, train_proposals)\n",
    "test_key_ann  = gen_pose_pseudo_ann(coco_ins_test ,  test_proposals)\n",
    "dump(train_key_ann, train_pose_pseudo_path)\n",
    "dump( test_key_ann,  test_pose_pseudo_path)"
   ]
  },
  {
   "cell_type": "code",
   "execution_count": null,
   "metadata": {},
   "outputs": [],
   "source": []
  },
  {
   "cell_type": "markdown",
   "metadata": {},
   "source": [
    "# Instance"
   ]
  },
  {
   "cell_type": "code",
   "execution_count": null,
   "metadata": {},
   "outputs": [],
   "source": [
    "def cvt_valid_pred2anns(preds, tgt):\n",
    "    ins_anns = []\n",
    "    person_anns = []\n",
    "    valid_preds = []\n",
    "    valid_persons = []\n",
    "    score_threshold = 0.3\n",
    "\n",
    "    ins_id = 0\n",
    "    person_id = 0\n",
    "    for pred in preds:\n",
    "        score = pred['score']\n",
    "        if score < score_threshold:\n",
    "            continue\n",
    "        bbox = pred['bbox']\n",
    "        bbox[0] = max(0, int(bbox[0]))\n",
    "        bbox[1] = max(0, int(bbox[1]))\n",
    "        bbox[2] = max(1, int(bbox[2]))\n",
    "        bbox[3] = max(1, int(bbox[3]))\n",
    "        area = bbox[2] * bbox[3]\n",
    "        if area < 10:\n",
    "            continue\n",
    "        pred['bbox'] = bbox\n",
    "        ins_ann = {\n",
    "            'bbox': bbox,\n",
    "            'category_id': pred['category_id'],\n",
    "            'image_id': pred['image_id'] + 1,  # FIXME \n",
    "            'iscrowd': 1,  # NOTE \n",
    "            'id': ins_id,\n",
    "            'score': score,\n",
    "            'area': area,\n",
    "            'segmentation': pred['segmentation']  # NOTE RLE format\n",
    "        }\n",
    "        ins_anns.append(ins_ann)\n",
    "        ins_id += 1\n",
    "        valid_preds.append(pred)\n",
    "        if pred['category_id'] == 1:\n",
    "            person_ann = ins_ann\n",
    "            person_ann['id'] = person_id\n",
    "            person_anns.append(person_ann)\n",
    "            valid_persons.append(pred)\n",
    "    ins_anns = {\n",
    "        'images': tgt['images'], \n",
    "        'annotations': ins_anns, \n",
    "        'categories': tgt['categories']\n",
    "    }\n",
    "    return ins_anns, valid_preds, valid_persons"
   ]
  },
  {
   "cell_type": "code",
   "execution_count": null,
   "metadata": {},
   "outputs": [],
   "source": [
    "output_train_root = '../../predictions/instance/train/MaskDINO'\n",
    "output_test_root = '../../predictions/instance/test/MaskDINO'"
   ]
  },
  {
   "cell_type": "code",
   "execution_count": null,
   "metadata": {},
   "outputs": [],
   "source": [
    "# trainset\n",
    "preds_train = load(os.path.join(output_train_root, \"coco_instances_results.json\"))\n",
    "len(preds_train)\n",
    "tgt_train = load('../../annotations/train_hoi2instances.json')\n",
    "new_anns_train, kept_boxes_train, persons_train = cvt_valid_pred2anns(preds_train, tgt_train)\n",
    "dump(new_anns_train  , os.path.join(output_train_root, 'instance_valid2ann.json'))\n",
    "dump(kept_boxes_train, os.path.join(output_train_root, 'instance_valid.json'    ))\n",
    "dump(persons_train   , os.path.join(output_train_root, 'person_valid.json'      ))"
   ]
  },
  {
   "cell_type": "code",
   "execution_count": null,
   "metadata": {},
   "outputs": [],
   "source": [
    "# testset\n",
    "preds_test = load(os.path.join(output_test_root, \"coco_instances_results.json\"))\n",
    "len(preds_test)\n",
    "tgt_test = load('../../annotations/test_hoi2instances.json')\n",
    "new_anns_test, kept_boxes_test, persons_test = cvt_valid_pred2anns(preds_test, tgt_test)\n",
    "dump(new_anns_test  , os.path.join(output_test_root, 'instance_valid2ann.json'))\n",
    "dump(kept_boxes_test, os.path.join(output_test_root, 'instance_valid.json'    ))\n",
    "dump(persons_test   , os.path.join(output_test_root, 'person_valid.json'      ))"
   ]
  }
 ],
 "metadata": {
  "kernelspec": {
   "display_name": "base",
   "language": "python",
   "name": "python3"
  },
  "language_info": {
   "codemirror_mode": {
    "name": "ipython",
    "version": 3
   },
   "file_extension": ".py",
   "mimetype": "text/x-python",
   "name": "python",
   "nbconvert_exporter": "python",
   "pygments_lexer": "ipython3",
   "version": "3.9.18"
  },
  "orig_nbformat": 4
 },
 "nbformat": 4,
 "nbformat_minor": 2
}
